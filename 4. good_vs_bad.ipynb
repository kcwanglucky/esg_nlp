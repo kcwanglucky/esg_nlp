{
 "cells": [
  {
   "cell_type": "code",
   "execution_count": 1,
   "metadata": {},
   "outputs": [],
   "source": [
    "import pandas as pd\n",
    "import numpy as np\n",
    "import os\n",
    "from sklearn.feature_extraction.text import TfidfTransformer, CountVectorizer\n",
    "from tqdm import tqdm\n",
    "\n",
    "from utils.preprocessing import get_texts\n",
    "from utils.preprocessing import get_texts, stop_words"
   ]
  },
  {
   "cell_type": "code",
   "execution_count": 2,
   "metadata": {},
   "outputs": [],
   "source": [
    "# TODO: Modify here for different sectors and score_types\n",
    "# set the sector and ESG type for the analysis\n",
    "sector = \"Technology\"\n",
    "# sector = \"Energy\"\n",
    "\n",
    "# score_type = \"governanceScore\"\n",
    "# score_type = \"environmentScore\"\n",
    "score_type = \"socialScore\""
   ]
  },
  {
   "cell_type": "code",
   "execution_count": 3,
   "metadata": {},
   "outputs": [],
   "source": [
    "df_esg_score = pd.read_excel(\"data/esg_score.xlsx\", sheet_name = \"data\")"
   ]
  },
  {
   "cell_type": "code",
   "execution_count": 4,
   "metadata": {},
   "outputs": [
    {
     "data": {
      "text/plain": [
       "array(['Consumer Cyclical', 'Energy', 'Industrials', 'Healthcare',\n",
       "       'Basic Materials', 'Consumer Defensive', 'Utilities', 'Technology',\n",
       "       'Financial Services', 'Communication Services', 'Real Estate', nan],\n",
       "      dtype=object)"
      ]
     },
     "execution_count": 4,
     "metadata": {},
     "output_type": "execute_result"
    }
   ],
   "source": [
    "df_esg_score[\"sector\"].unique()"
   ]
  },
  {
   "cell_type": "code",
   "execution_count": 5,
   "metadata": {},
   "outputs": [],
   "source": [
    "tickers = df_esg_score[df_esg_score[\"sector\"] == sector][\"Company\"]\n",
    "esgs = df_esg_score[df_esg_score[\"sector\"] == sector][[\"Company\", \"socialScore\", \"governanceScore\", \"environmentScore\"]]"
   ]
  },
  {
   "cell_type": "code",
   "execution_count": 6,
   "metadata": {},
   "outputs": [
    {
     "data": {
      "text/plain": [
       "63"
      ]
     },
     "execution_count": 6,
     "metadata": {},
     "output_type": "execute_result"
    }
   ],
   "source": [
    "len(tickers)"
   ]
  },
  {
   "cell_type": "code",
   "execution_count": 7,
   "metadata": {},
   "outputs": [],
   "source": [
    "score = esgs[score_type]"
   ]
  },
  {
   "cell_type": "code",
   "execution_count": 15,
   "metadata": {},
   "outputs": [],
   "source": [
    "alpha = 0.15\n",
    "upper_score = np.quantile(score, 1 - alpha)\n",
    "lower_score = np.quantile(score, alpha)"
   ]
  },
  {
   "cell_type": "code",
   "execution_count": 16,
   "metadata": {},
   "outputs": [],
   "source": [
    "bad_companies = esgs[esgs[score_type] > upper_score][\"Company\"].values\n",
    "good_companies = esgs[esgs[score_type] < lower_score][\"Company\"].values"
   ]
  },
  {
   "cell_type": "code",
   "execution_count": 17,
   "metadata": {},
   "outputs": [
    {
     "data": {
      "text/plain": [
       "array(['QCOM', 'MU', 'TRMB', 'NVDA', 'AMAT', 'WDC', 'IPGP', 'STX', 'KEYS',\n",
       "       'CDW'], dtype=object)"
      ]
     },
     "execution_count": 17,
     "metadata": {},
     "output_type": "execute_result"
    }
   ],
   "source": [
    "good_companies"
   ]
  },
  {
   "cell_type": "code",
   "execution_count": 18,
   "metadata": {},
   "outputs": [
    {
     "data": {
      "text/plain": [
       "array(['FTV', 'IT', 'VRSN', 'PTC', 'FTNT', 'FFIV', 'FISV', 'FIS', 'ORCL',\n",
       "       'NLOK'], dtype=object)"
      ]
     },
     "execution_count": 18,
     "metadata": {},
     "output_type": "execute_result"
    }
   ],
   "source": [
    "bad_companies"
   ]
  },
  {
   "cell_type": "code",
   "execution_count": 19,
   "metadata": {},
   "outputs": [
    {
     "data": {
      "text/html": [
       "<div>\n",
       "<style scoped>\n",
       "    .dataframe tbody tr th:only-of-type {\n",
       "        vertical-align: middle;\n",
       "    }\n",
       "\n",
       "    .dataframe tbody tr th {\n",
       "        vertical-align: top;\n",
       "    }\n",
       "\n",
       "    .dataframe thead th {\n",
       "        text-align: right;\n",
       "    }\n",
       "</style>\n",
       "<table border=\"1\" class=\"dataframe\">\n",
       "  <thead>\n",
       "    <tr style=\"text-align: right;\">\n",
       "      <th></th>\n",
       "      <th>Company</th>\n",
       "      <th>socialScore</th>\n",
       "      <th>governanceScore</th>\n",
       "      <th>environmentScore</th>\n",
       "    </tr>\n",
       "  </thead>\n",
       "  <tbody>\n",
       "    <tr>\n",
       "      <th>22</th>\n",
       "      <td>FTV</td>\n",
       "      <td>14.18</td>\n",
       "      <td>5.53</td>\n",
       "      <td>15.63</td>\n",
       "    </tr>\n",
       "    <tr>\n",
       "      <th>177</th>\n",
       "      <td>IT</td>\n",
       "      <td>17.12</td>\n",
       "      <td>6.28</td>\n",
       "      <td>0.11</td>\n",
       "    </tr>\n",
       "    <tr>\n",
       "      <th>211</th>\n",
       "      <td>VRSN</td>\n",
       "      <td>12.87</td>\n",
       "      <td>6.28</td>\n",
       "      <td>3.04</td>\n",
       "    </tr>\n",
       "    <tr>\n",
       "      <th>259</th>\n",
       "      <td>PTC</td>\n",
       "      <td>12.72</td>\n",
       "      <td>5.66</td>\n",
       "      <td>1.24</td>\n",
       "    </tr>\n",
       "    <tr>\n",
       "      <th>260</th>\n",
       "      <td>FTNT</td>\n",
       "      <td>12.13</td>\n",
       "      <td>6.17</td>\n",
       "      <td>1.23</td>\n",
       "    </tr>\n",
       "    <tr>\n",
       "      <th>272</th>\n",
       "      <td>FFIV</td>\n",
       "      <td>12.49</td>\n",
       "      <td>5.40</td>\n",
       "      <td>1.26</td>\n",
       "    </tr>\n",
       "    <tr>\n",
       "      <th>292</th>\n",
       "      <td>FISV</td>\n",
       "      <td>10.73</td>\n",
       "      <td>6.41</td>\n",
       "      <td>1.19</td>\n",
       "    </tr>\n",
       "    <tr>\n",
       "      <th>295</th>\n",
       "      <td>FIS</td>\n",
       "      <td>11.14</td>\n",
       "      <td>5.83</td>\n",
       "      <td>1.27</td>\n",
       "    </tr>\n",
       "    <tr>\n",
       "      <th>303</th>\n",
       "      <td>ORCL</td>\n",
       "      <td>10.58</td>\n",
       "      <td>6.84</td>\n",
       "      <td>0.43</td>\n",
       "    </tr>\n",
       "    <tr>\n",
       "      <th>326</th>\n",
       "      <td>NLOK</td>\n",
       "      <td>10.55</td>\n",
       "      <td>4.95</td>\n",
       "      <td>1.17</td>\n",
       "    </tr>\n",
       "  </tbody>\n",
       "</table>\n",
       "</div>"
      ],
      "text/plain": [
       "    Company  socialScore  governanceScore  environmentScore\n",
       "22      FTV        14.18             5.53             15.63\n",
       "177      IT        17.12             6.28              0.11\n",
       "211    VRSN        12.87             6.28              3.04\n",
       "259     PTC        12.72             5.66              1.24\n",
       "260    FTNT        12.13             6.17              1.23\n",
       "272    FFIV        12.49             5.40              1.26\n",
       "292    FISV        10.73             6.41              1.19\n",
       "295     FIS        11.14             5.83              1.27\n",
       "303    ORCL        10.58             6.84              0.43\n",
       "326    NLOK        10.55             4.95              1.17"
      ]
     },
     "execution_count": 19,
     "metadata": {},
     "output_type": "execute_result"
    }
   ],
   "source": [
    "esgs[esgs[score_type] > upper_score]"
   ]
  },
  {
   "cell_type": "code",
   "execution_count": 20,
   "metadata": {},
   "outputs": [],
   "source": [
    "bad_companies_score = esgs[esgs[score_type] > upper_score][score_type].values\n",
    "good_companies_score = esgs[esgs[score_type] < lower_score][score_type].values"
   ]
  },
  {
   "cell_type": "code",
   "execution_count": 21,
   "metadata": {},
   "outputs": [
    {
     "name": "stdout",
     "output_type": "stream",
     "text": [
      "12.450999999999999 3.567\n"
     ]
    }
   ],
   "source": [
    "avg_bad = np.mean(bad_companies_score)\n",
    "avg_good = np.mean(good_companies_score)\n",
    "print(avg_bad, avg_good)"
   ]
  },
  {
   "cell_type": "code",
   "execution_count": 22,
   "metadata": {},
   "outputs": [
    {
     "name": "stdout",
     "output_type": "stream",
     "text": [
      "10.514 4.295999999999999\n"
     ]
    }
   ],
   "source": [
    "print(upper_score, lower_score)"
   ]
  },
  {
   "cell_type": "code",
   "execution_count": 23,
   "metadata": {},
   "outputs": [
    {
     "name": "stderr",
     "output_type": "stream",
     "text": [
      "/Users/luckywang/Documents/Document/Course Material/Fall 2021/esg_nlp/venv/lib/python3.9/site-packages/IPython/core/interactiveshell.py:3441: DtypeWarning: Columns (15,16) have mixed types.Specify dtype option on import or set low_memory=False.\n",
      "  exec(code_obj, self.user_global_ns, self.user_ns)\n"
     ]
    }
   ],
   "source": [
    "ticker_library = pd.read_csv(os.path.join(\"data\", \"tickers.csv\"))\n",
    "good_cik = []\n",
    "bad_cik = []\n",
    "for ticker in good_companies:    \n",
    "    try:\n",
    "        # for a given ticker, find its cik number through th ticker library\n",
    "        good_cik.append(ticker_library[ticker_library.ticker == ticker].secfilings.values[0][-10:])\n",
    "    except:\n",
    "        # if could not find cik, give it a empty cik\n",
    "        good_cik.append('')\n",
    "\n",
    "for ticker in bad_companies:    \n",
    "    try:\n",
    "        # for a given ticker, find its cik number through th ticker library\n",
    "        bad_cik.append(ticker_library[ticker_library.ticker == ticker].secfilings.values[0][-10:])\n",
    "    except:\n",
    "        # if could not find cik, give it a empty cik\n",
    "        bad_cik.append('')"
   ]
  },
  {
   "cell_type": "code",
   "execution_count": 24,
   "metadata": {},
   "outputs": [
    {
     "name": "stderr",
     "output_type": "stream",
     "text": [
      "0it [00:00, ?it/s]"
     ]
    },
    {
     "name": "stdout",
     "output_type": "stream",
     "text": [
      "Scraping CIK 0000723125\n"
     ]
    },
    {
     "name": "stderr",
     "output_type": "stream",
     "text": [
      "100%|██████████| 1/1 [00:07<00:00,  7.15s/it]\n"
     ]
    },
    {
     "name": "stdout",
     "output_type": "stream",
     "text": [
      "Scraping CIK 0000723125\n"
     ]
    },
    {
     "name": "stderr",
     "output_type": "stream",
     "text": [
      "100%|██████████| 1/1 [00:09<00:00,  9.77s/it]\n",
      "2it [00:29, 14.52s/it]"
     ]
    },
    {
     "name": "stdout",
     "output_type": "stream",
     "text": [
      "Scraping CIK 0001045810\n"
     ]
    },
    {
     "name": "stderr",
     "output_type": "stream",
     "text": [
      "100%|██████████| 1/1 [00:06<00:00,  6.60s/it]\n"
     ]
    },
    {
     "name": "stdout",
     "output_type": "stream",
     "text": [
      "Scraping CIK 0001045810\n"
     ]
    },
    {
     "name": "stderr",
     "output_type": "stream",
     "text": [
      "100%|██████████| 1/1 [00:09<00:00,  9.78s/it]\n",
      "5it [00:52,  9.17s/it]"
     ]
    },
    {
     "name": "stdout",
     "output_type": "stream",
     "text": [
      "Scraping CIK 0000106040\n"
     ]
    },
    {
     "name": "stderr",
     "output_type": "stream",
     "text": [
      "100%|██████████| 1/1 [00:07<00:00,  7.50s/it]\n"
     ]
    },
    {
     "name": "stdout",
     "output_type": "stream",
     "text": [
      "Scraping CIK 0000106040\n"
     ]
    },
    {
     "name": "stderr",
     "output_type": "stream",
     "text": [
      "100%|██████████| 1/1 [00:10<00:00, 10.57s/it]\n",
      "10it [01:23,  8.39s/it]\n"
     ]
    }
   ],
   "source": [
    "ret_good = get_texts(good_cik, good_companies)"
   ]
  },
  {
   "cell_type": "code",
   "execution_count": 25,
   "metadata": {},
   "outputs": [
    {
     "name": "stderr",
     "output_type": "stream",
     "text": [
      "5it [00:00, 14.45it/s]"
     ]
    },
    {
     "name": "stdout",
     "output_type": "stream",
     "text": [
      "Scraping CIK 0000798354\n"
     ]
    },
    {
     "name": "stderr",
     "output_type": "stream",
     "text": [
      "100%|██████████| 1/1 [00:07<00:00,  7.43s/it]\n",
      "5it [00:14, 14.45it/s]"
     ]
    },
    {
     "name": "stdout",
     "output_type": "stream",
     "text": [
      "Scraping CIK 0000798354\n"
     ]
    },
    {
     "name": "stderr",
     "output_type": "stream",
     "text": [
      "100%|██████████| 1/1 [00:11<00:00, 11.09s/it]\n",
      "7it [00:33,  6.50s/it]"
     ]
    },
    {
     "name": "stdout",
     "output_type": "stream",
     "text": [
      "Scraping CIK 0001341439\n"
     ]
    },
    {
     "name": "stderr",
     "output_type": "stream",
     "text": [
      "100%|██████████| 1/1 [00:06<00:00,  6.79s/it]\n"
     ]
    },
    {
     "name": "stdout",
     "output_type": "stream",
     "text": [
      "Scraping CIK 0001341439\n"
     ]
    },
    {
     "name": "stderr",
     "output_type": "stream",
     "text": [
      "100%|██████████| 1/1 [00:10<00:00, 10.55s/it]\n",
      "9it [01:02,  9.49s/it]"
     ]
    },
    {
     "name": "stdout",
     "output_type": "stream",
     "text": [
      "Scraping CIK 0000849399\n"
     ]
    },
    {
     "name": "stderr",
     "output_type": "stream",
     "text": [
      "100%|██████████| 1/1 [00:07<00:00,  7.83s/it]\n"
     ]
    },
    {
     "name": "stdout",
     "output_type": "stream",
     "text": [
      "Scraping CIK 0000849399\n"
     ]
    },
    {
     "name": "stderr",
     "output_type": "stream",
     "text": [
      "100%|██████████| 1/1 [00:09<00:00,  9.85s/it]\n",
      "10it [01:28,  8.84s/it]\n"
     ]
    }
   ],
   "source": [
    "ret_bad = get_texts(bad_cik, bad_companies)"
   ]
  },
  {
   "cell_type": "code",
   "execution_count": 26,
   "metadata": {},
   "outputs": [],
   "source": [
    "good_docs = ret_good[\"docs\"]\n",
    "bad_docs = ret_bad[\"docs\"]"
   ]
  },
  {
   "cell_type": "code",
   "execution_count": 34,
   "metadata": {},
   "outputs": [
    {
     "name": "stderr",
     "output_type": "stream",
     "text": [
      "/Users/luckywang/Documents/Document/Course Material/Fall 2021/esg_nlp/venv/lib/python3.9/site-packages/sklearn/feature_extraction/text.py:388: UserWarning: Your stop_words may be inconsistent with your preprocessing. Tokenizing the stop words generated tokens ['10'] not in stop_words.\n",
      "  warnings.warn('Your stop_words may be inconsistent with '\n"
     ]
    }
   ],
   "source": [
    "# TODO: Modify here for different ngram range\n",
    "n_min = 2\n",
    "n_max = 5\n",
    "cv = CountVectorizer(max_df=0.7, stop_words=stop_words, max_features=200, ngram_range=(n_min, n_max))\n",
    "word_count_vector = cv.fit_transform(good_docs + bad_docs)"
   ]
  },
  {
   "cell_type": "code",
   "execution_count": 35,
   "metadata": {},
   "outputs": [],
   "source": [
    "feature_names = cv.get_feature_names()"
   ]
  },
  {
   "cell_type": "code",
   "execution_count": 36,
   "metadata": {},
   "outputs": [],
   "source": [
    "count_feature = word_count_vector.toarray().sum(axis=0)"
   ]
  },
  {
   "cell_type": "code",
   "execution_count": 37,
   "metadata": {},
   "outputs": [],
   "source": [
    "feature_names = cv.get_feature_names()"
   ]
  },
  {
   "cell_type": "code",
   "execution_count": 38,
   "metadata": {},
   "outputs": [],
   "source": [
    "d = {\"word\": [], \"good_score\": [], \"bad_score\": [], \"good_score_all\": []\n",
    "    , \"bad_score_all\": [], \"count\": [], \"good_nums\": [], \"bad_nums\": []}\n",
    "\n",
    "for feature_idx, word in enumerate(feature_names):\n",
    "    good_sum = bad_sum = good_num = bad_num = 0\n",
    "\n",
    "    for i, doc_set in enumerate(good_docs):\n",
    "        if word in doc_set:\n",
    "            good_num += 1\n",
    "            good_sum += good_companies_score[i]\n",
    "    for i, doc_set in enumerate(bad_docs):\n",
    "        if word in doc_set:\n",
    "            bad_num += 1\n",
    "            bad_sum += bad_companies_score[i]\n",
    "    \n",
    "    # print(\"word: {}\".format(word))\n",
    "    d[\"word\"].append(word) \n",
    "    \n",
    "    if good_num:\n",
    "        d[\"good_score\"].append(good_sum / good_num)\n",
    "    else:\n",
    "        d[\"good_score\"].append(0)\n",
    "    if bad_num:\n",
    "        d[\"bad_score\"].append(bad_sum / bad_num)\n",
    "    else:\n",
    "        d[\"bad_score\"].append(0)\n",
    "\n",
    "    d[\"good_score_all\"].append(good_sum / len(good_docs))\n",
    "    d[\"bad_score_all\"].append(bad_sum / len(bad_docs))\n",
    "\n",
    "    d[\"count\"].append(count_feature[feature_idx])\n",
    "    d[\"good_nums\"].append(good_num)\n",
    "    d[\"bad_nums\"].append(bad_num)\n"
   ]
  },
  {
   "cell_type": "code",
   "execution_count": 39,
   "metadata": {},
   "outputs": [],
   "source": [
    "df = pd.DataFrame(data=d)\n"
   ]
  },
  {
   "cell_type": "code",
   "execution_count": 40,
   "metadata": {},
   "outputs": [
    {
     "data": {
      "text/html": [
       "<div>\n",
       "<style scoped>\n",
       "    .dataframe tbody tr th:only-of-type {\n",
       "        vertical-align: middle;\n",
       "    }\n",
       "\n",
       "    .dataframe tbody tr th {\n",
       "        vertical-align: top;\n",
       "    }\n",
       "\n",
       "    .dataframe thead th {\n",
       "        text-align: right;\n",
       "    }\n",
       "</style>\n",
       "<table border=\"1\" class=\"dataframe\">\n",
       "  <thead>\n",
       "    <tr style=\"text-align: right;\">\n",
       "      <th></th>\n",
       "      <th>word</th>\n",
       "      <th>good_score</th>\n",
       "      <th>bad_score</th>\n",
       "      <th>good_score_all</th>\n",
       "      <th>bad_score_all</th>\n",
       "      <th>count</th>\n",
       "      <th>good_nums</th>\n",
       "      <th>bad_nums</th>\n",
       "    </tr>\n",
       "  </thead>\n",
       "  <tbody>\n",
       "    <tr>\n",
       "      <th>0</th>\n",
       "      <td>acquired intangible</td>\n",
       "      <td>3.731667</td>\n",
       "      <td>12.43875</td>\n",
       "      <td>2.239</td>\n",
       "      <td>9.951</td>\n",
       "      <td>259</td>\n",
       "      <td>6</td>\n",
       "      <td>8</td>\n",
       "    </tr>\n",
       "    <tr>\n",
       "      <th>1</th>\n",
       "      <td>acquisition first</td>\n",
       "      <td>3.435000</td>\n",
       "      <td>11.63000</td>\n",
       "      <td>0.687</td>\n",
       "      <td>4.652</td>\n",
       "      <td>259</td>\n",
       "      <td>2</td>\n",
       "      <td>4</td>\n",
       "    </tr>\n",
       "    <tr>\n",
       "      <th>2</th>\n",
       "      <td>additional information regarding</td>\n",
       "      <td>3.752000</td>\n",
       "      <td>12.54000</td>\n",
       "      <td>1.876</td>\n",
       "      <td>8.778</td>\n",
       "      <td>303</td>\n",
       "      <td>5</td>\n",
       "      <td>7</td>\n",
       "    </tr>\n",
       "    <tr>\n",
       "      <th>3</th>\n",
       "      <td>adverse effect result financial</td>\n",
       "      <td>3.433333</td>\n",
       "      <td>12.78000</td>\n",
       "      <td>2.060</td>\n",
       "      <td>5.112</td>\n",
       "      <td>408</td>\n",
       "      <td>6</td>\n",
       "      <td>4</td>\n",
       "    </tr>\n",
       "    <tr>\n",
       "      <th>4</th>\n",
       "      <td>aggregate principal amount senior</td>\n",
       "      <td>3.597500</td>\n",
       "      <td>12.68000</td>\n",
       "      <td>1.439</td>\n",
       "      <td>10.144</td>\n",
       "      <td>260</td>\n",
       "      <td>4</td>\n",
       "      <td>8</td>\n",
       "    </tr>\n",
       "  </tbody>\n",
       "</table>\n",
       "</div>"
      ],
      "text/plain": [
       "                                word  good_score  bad_score  good_score_all  \\\n",
       "0                acquired intangible    3.731667   12.43875           2.239   \n",
       "1                  acquisition first    3.435000   11.63000           0.687   \n",
       "2   additional information regarding    3.752000   12.54000           1.876   \n",
       "3    adverse effect result financial    3.433333   12.78000           2.060   \n",
       "4  aggregate principal amount senior    3.597500   12.68000           1.439   \n",
       "\n",
       "   bad_score_all  count  good_nums  bad_nums  \n",
       "0          9.951    259          6         8  \n",
       "1          4.652    259          2         4  \n",
       "2          8.778    303          5         7  \n",
       "3          5.112    408          6         4  \n",
       "4         10.144    260          4         8  "
      ]
     },
     "execution_count": 40,
     "metadata": {},
     "output_type": "execute_result"
    }
   ],
   "source": [
    "df.head()"
   ]
  },
  {
   "cell_type": "code",
   "execution_count": 41,
   "metadata": {},
   "outputs": [],
   "source": [
    "df[\"diff\"] = abs(df[\"good_nums\"] - df[\"bad_nums\"])"
   ]
  },
  {
   "cell_type": "code",
   "execution_count": 42,
   "metadata": {},
   "outputs": [],
   "source": [
    "df = df.sort_values(\"diff\", ascending=False)#.head(60)"
   ]
  },
  {
   "cell_type": "code",
   "execution_count": 43,
   "metadata": {},
   "outputs": [
    {
     "data": {
      "text/html": [
       "<div>\n",
       "<style scoped>\n",
       "    .dataframe tbody tr th:only-of-type {\n",
       "        vertical-align: middle;\n",
       "    }\n",
       "\n",
       "    .dataframe tbody tr th {\n",
       "        vertical-align: top;\n",
       "    }\n",
       "\n",
       "    .dataframe thead th {\n",
       "        text-align: right;\n",
       "    }\n",
       "</style>\n",
       "<table border=\"1\" class=\"dataframe\">\n",
       "  <thead>\n",
       "    <tr style=\"text-align: right;\">\n",
       "      <th></th>\n",
       "      <th>word</th>\n",
       "      <th>good_score</th>\n",
       "      <th>bad_score</th>\n",
       "      <th>good_score_all</th>\n",
       "      <th>bad_score_all</th>\n",
       "      <th>count</th>\n",
       "      <th>good_nums</th>\n",
       "      <th>bad_nums</th>\n",
       "      <th>diff</th>\n",
       "    </tr>\n",
       "  </thead>\n",
       "  <tbody>\n",
       "    <tr>\n",
       "      <th>98</th>\n",
       "      <td>integrated circuit</td>\n",
       "      <td>3.582500</td>\n",
       "      <td>11.635000</td>\n",
       "      <td>2.866</td>\n",
       "      <td>2.327</td>\n",
       "      <td>515</td>\n",
       "      <td>8</td>\n",
       "      <td>2</td>\n",
       "      <td>6</td>\n",
       "    </tr>\n",
       "    <tr>\n",
       "      <th>45</th>\n",
       "      <td>deferred revenue</td>\n",
       "      <td>3.397500</td>\n",
       "      <td>12.451000</td>\n",
       "      <td>1.359</td>\n",
       "      <td>12.451</td>\n",
       "      <td>596</td>\n",
       "      <td>4</td>\n",
       "      <td>10</td>\n",
       "      <td>6</td>\n",
       "    </tr>\n",
       "    <tr>\n",
       "      <th>62</th>\n",
       "      <td>ended october</td>\n",
       "      <td>3.607500</td>\n",
       "      <td>10.640000</td>\n",
       "      <td>2.886</td>\n",
       "      <td>2.128</td>\n",
       "      <td>329</td>\n",
       "      <td>8</td>\n",
       "      <td>2</td>\n",
       "      <td>6</td>\n",
       "    </tr>\n",
       "    <tr>\n",
       "      <th>183</th>\n",
       "      <td>support service</td>\n",
       "      <td>3.370000</td>\n",
       "      <td>11.932222</td>\n",
       "      <td>1.011</td>\n",
       "      <td>10.739</td>\n",
       "      <td>340</td>\n",
       "      <td>3</td>\n",
       "      <td>9</td>\n",
       "      <td>6</td>\n",
       "    </tr>\n",
       "    <tr>\n",
       "      <th>102</th>\n",
       "      <td>june compared</td>\n",
       "      <td>3.405000</td>\n",
       "      <td>13.235714</td>\n",
       "      <td>0.681</td>\n",
       "      <td>9.265</td>\n",
       "      <td>265</td>\n",
       "      <td>2</td>\n",
       "      <td>7</td>\n",
       "      <td>5</td>\n",
       "    </tr>\n",
       "    <tr>\n",
       "      <th>57</th>\n",
       "      <td>ended january</td>\n",
       "      <td>3.607500</td>\n",
       "      <td>13.386667</td>\n",
       "      <td>2.886</td>\n",
       "      <td>4.016</td>\n",
       "      <td>823</td>\n",
       "      <td>8</td>\n",
       "      <td>3</td>\n",
       "      <td>5</td>\n",
       "    </tr>\n",
       "    <tr>\n",
       "      <th>60</th>\n",
       "      <td>ended june compared</td>\n",
       "      <td>3.405000</td>\n",
       "      <td>13.235714</td>\n",
       "      <td>0.681</td>\n",
       "      <td>9.265</td>\n",
       "      <td>251</td>\n",
       "      <td>2</td>\n",
       "      <td>7</td>\n",
       "      <td>5</td>\n",
       "    </tr>\n",
       "    <tr>\n",
       "      <th>126</th>\n",
       "      <td>month period</td>\n",
       "      <td>0.000000</td>\n",
       "      <td>12.252000</td>\n",
       "      <td>0.000</td>\n",
       "      <td>6.126</td>\n",
       "      <td>462</td>\n",
       "      <td>0</td>\n",
       "      <td>5</td>\n",
       "      <td>5</td>\n",
       "    </tr>\n",
       "    <tr>\n",
       "      <th>161</th>\n",
       "      <td>report year</td>\n",
       "      <td>3.790000</td>\n",
       "      <td>12.662222</td>\n",
       "      <td>1.516</td>\n",
       "      <td>11.396</td>\n",
       "      <td>228</td>\n",
       "      <td>4</td>\n",
       "      <td>9</td>\n",
       "      <td>5</td>\n",
       "    </tr>\n",
       "    <tr>\n",
       "      <th>162</th>\n",
       "      <td>report year ended</td>\n",
       "      <td>3.790000</td>\n",
       "      <td>12.662222</td>\n",
       "      <td>1.516</td>\n",
       "      <td>11.396</td>\n",
       "      <td>228</td>\n",
       "      <td>4</td>\n",
       "      <td>9</td>\n",
       "      <td>5</td>\n",
       "    </tr>\n",
       "    <tr>\n",
       "      <th>112</th>\n",
       "      <td>million aggregate principal amount</td>\n",
       "      <td>3.413333</td>\n",
       "      <td>12.680000</td>\n",
       "      <td>1.024</td>\n",
       "      <td>10.144</td>\n",
       "      <td>249</td>\n",
       "      <td>3</td>\n",
       "      <td>8</td>\n",
       "      <td>5</td>\n",
       "    </tr>\n",
       "    <tr>\n",
       "      <th>179</th>\n",
       "      <td>solution service</td>\n",
       "      <td>3.110000</td>\n",
       "      <td>11.833750</td>\n",
       "      <td>0.933</td>\n",
       "      <td>9.467</td>\n",
       "      <td>225</td>\n",
       "      <td>3</td>\n",
       "      <td>8</td>\n",
       "      <td>5</td>\n",
       "    </tr>\n",
       "    <tr>\n",
       "      <th>192</th>\n",
       "      <td>three month ended june</td>\n",
       "      <td>3.433333</td>\n",
       "      <td>12.922500</td>\n",
       "      <td>1.030</td>\n",
       "      <td>10.338</td>\n",
       "      <td>450</td>\n",
       "      <td>3</td>\n",
       "      <td>8</td>\n",
       "      <td>5</td>\n",
       "    </tr>\n",
       "    <tr>\n",
       "      <th>111</th>\n",
       "      <td>million aggregate principal</td>\n",
       "      <td>3.413333</td>\n",
       "      <td>12.680000</td>\n",
       "      <td>1.024</td>\n",
       "      <td>10.144</td>\n",
       "      <td>253</td>\n",
       "      <td>3</td>\n",
       "      <td>8</td>\n",
       "      <td>5</td>\n",
       "    </tr>\n",
       "    <tr>\n",
       "      <th>6</th>\n",
       "      <td>annual report year</td>\n",
       "      <td>3.790000</td>\n",
       "      <td>12.662222</td>\n",
       "      <td>1.516</td>\n",
       "      <td>11.396</td>\n",
       "      <td>226</td>\n",
       "      <td>4</td>\n",
       "      <td>9</td>\n",
       "      <td>5</td>\n",
       "    </tr>\n",
       "    <tr>\n",
       "      <th>7</th>\n",
       "      <td>annual report year ended</td>\n",
       "      <td>3.790000</td>\n",
       "      <td>12.662222</td>\n",
       "      <td>1.516</td>\n",
       "      <td>11.396</td>\n",
       "      <td>226</td>\n",
       "      <td>4</td>\n",
       "      <td>9</td>\n",
       "      <td>5</td>\n",
       "    </tr>\n",
       "    <tr>\n",
       "      <th>12</th>\n",
       "      <td>cash flow hedge</td>\n",
       "      <td>3.550000</td>\n",
       "      <td>12.458000</td>\n",
       "      <td>3.195</td>\n",
       "      <td>6.229</td>\n",
       "      <td>296</td>\n",
       "      <td>9</td>\n",
       "      <td>5</td>\n",
       "      <td>4</td>\n",
       "    </tr>\n",
       "    <tr>\n",
       "      <th>122</th>\n",
       "      <td>month ended june</td>\n",
       "      <td>3.625000</td>\n",
       "      <td>12.922500</td>\n",
       "      <td>1.450</td>\n",
       "      <td>10.338</td>\n",
       "      <td>1543</td>\n",
       "      <td>4</td>\n",
       "      <td>8</td>\n",
       "      <td>4</td>\n",
       "    </tr>\n",
       "    <tr>\n",
       "      <th>154</th>\n",
       "      <td>principal amount senior</td>\n",
       "      <td>3.597500</td>\n",
       "      <td>12.680000</td>\n",
       "      <td>1.439</td>\n",
       "      <td>10.144</td>\n",
       "      <td>266</td>\n",
       "      <td>4</td>\n",
       "      <td>8</td>\n",
       "      <td>4</td>\n",
       "    </tr>\n",
       "    <tr>\n",
       "      <th>156</th>\n",
       "      <td>professional service</td>\n",
       "      <td>3.376000</td>\n",
       "      <td>11.932222</td>\n",
       "      <td>1.688</td>\n",
       "      <td>10.739</td>\n",
       "      <td>316</td>\n",
       "      <td>5</td>\n",
       "      <td>9</td>\n",
       "      <td>4</td>\n",
       "    </tr>\n",
       "  </tbody>\n",
       "</table>\n",
       "</div>"
      ],
      "text/plain": [
       "                                   word  good_score  bad_score  \\\n",
       "98                   integrated circuit    3.582500  11.635000   \n",
       "45                     deferred revenue    3.397500  12.451000   \n",
       "62                        ended october    3.607500  10.640000   \n",
       "183                     support service    3.370000  11.932222   \n",
       "102                       june compared    3.405000  13.235714   \n",
       "57                        ended january    3.607500  13.386667   \n",
       "60                  ended june compared    3.405000  13.235714   \n",
       "126                        month period    0.000000  12.252000   \n",
       "161                         report year    3.790000  12.662222   \n",
       "162                   report year ended    3.790000  12.662222   \n",
       "112  million aggregate principal amount    3.413333  12.680000   \n",
       "179                    solution service    3.110000  11.833750   \n",
       "192              three month ended june    3.433333  12.922500   \n",
       "111         million aggregate principal    3.413333  12.680000   \n",
       "6                    annual report year    3.790000  12.662222   \n",
       "7              annual report year ended    3.790000  12.662222   \n",
       "12                      cash flow hedge    3.550000  12.458000   \n",
       "122                    month ended june    3.625000  12.922500   \n",
       "154             principal amount senior    3.597500  12.680000   \n",
       "156                professional service    3.376000  11.932222   \n",
       "\n",
       "     good_score_all  bad_score_all  count  good_nums  bad_nums  diff  \n",
       "98            2.866          2.327    515          8         2     6  \n",
       "45            1.359         12.451    596          4        10     6  \n",
       "62            2.886          2.128    329          8         2     6  \n",
       "183           1.011         10.739    340          3         9     6  \n",
       "102           0.681          9.265    265          2         7     5  \n",
       "57            2.886          4.016    823          8         3     5  \n",
       "60            0.681          9.265    251          2         7     5  \n",
       "126           0.000          6.126    462          0         5     5  \n",
       "161           1.516         11.396    228          4         9     5  \n",
       "162           1.516         11.396    228          4         9     5  \n",
       "112           1.024         10.144    249          3         8     5  \n",
       "179           0.933          9.467    225          3         8     5  \n",
       "192           1.030         10.338    450          3         8     5  \n",
       "111           1.024         10.144    253          3         8     5  \n",
       "6             1.516         11.396    226          4         9     5  \n",
       "7             1.516         11.396    226          4         9     5  \n",
       "12            3.195          6.229    296          9         5     4  \n",
       "122           1.450         10.338   1543          4         8     4  \n",
       "154           1.439         10.144    266          4         8     4  \n",
       "156           1.688         10.739    316          5         9     4  "
      ]
     },
     "execution_count": 43,
     "metadata": {},
     "output_type": "execute_result"
    }
   ],
   "source": [
    "df.head(20)"
   ]
  },
  {
   "cell_type": "code",
   "execution_count": 44,
   "metadata": {},
   "outputs": [],
   "source": [
    "goodvbad_path = os.path.join(\"data\", \"goodvbad\")\n",
    "if not os.path.isdir(goodvbad_path):\n",
    "    os.mkdir(goodvbad_path)"
   ]
  },
  {
   "cell_type": "code",
   "execution_count": 45,
   "metadata": {},
   "outputs": [],
   "source": [
    "df.round(2).to_csv(\"data/goodvbad/{}_{}_{}_n{}-{}.csv\".format(sector[:8], score_type[:3], alpha, n_min, n_max))"
   ]
  },
  {
   "cell_type": "markdown",
   "metadata": {},
   "source": [
    "## Appendix"
   ]
  },
  {
   "cell_type": "code",
   "execution_count": null,
   "metadata": {},
   "outputs": [],
   "source": [
    "# To remove all the previous files earlier than 2020\n",
    "for cik in tqdm(bad_cik):\n",
    "    tenk_path = os.path.join(\"data\", \"10k\", cik, \"rawtext\")\n",
    "    all_raws = os.listdir(tenk_path)\n",
    "    for filename in all_raws:\n",
    "        if filename[0] == '.':\n",
    "            continue\n",
    "        year = int(filename.split('_')[1].split('-')[0])\n",
    "        # print(year)\n",
    "        if year < 2020:\n",
    "            # print(os.path.join(tenk_path, filename))\n",
    "            os.remove(os.path.join(tenk_path, filename))\n",
    "    \n",
    "    tenq_path = os.path.join(\"data\", \"10q\", cik, \"rawtext\")\n",
    "    all_raws = os.listdir(tenq_path)\n",
    "    for filename in all_raws:\n",
    "        if filename[0] == '.':\n",
    "            continue\n",
    "        year = int(filename.split('_')[1].split('-')[0])\n",
    "        # print(year)\n",
    "        if year < 2020:\n",
    "            # print(os.path.join(tenk_path, filename))\n",
    "            os.remove(os.path.join(tenq_path, filename))\n"
   ]
  },
  {
   "cell_type": "code",
   "execution_count": 4,
   "metadata": {},
   "outputs": [],
   "source": [
    "df = pd.read_csv(\"energy_good_vs_bad_uni_bi_tri.csv\", index_col=0)"
   ]
  },
  {
   "cell_type": "code",
   "execution_count": 5,
   "metadata": {},
   "outputs": [
    {
     "data": {
      "text/html": [
       "<div>\n",
       "<style scoped>\n",
       "    .dataframe tbody tr th:only-of-type {\n",
       "        vertical-align: middle;\n",
       "    }\n",
       "\n",
       "    .dataframe tbody tr th {\n",
       "        vertical-align: top;\n",
       "    }\n",
       "\n",
       "    .dataframe thead th {\n",
       "        text-align: right;\n",
       "    }\n",
       "</style>\n",
       "<table border=\"1\" class=\"dataframe\">\n",
       "  <thead>\n",
       "    <tr style=\"text-align: right;\">\n",
       "      <th></th>\n",
       "      <th>word</th>\n",
       "      <th>good_score</th>\n",
       "      <th>bad_score</th>\n",
       "      <th>good_score_all</th>\n",
       "      <th>bad_score_all</th>\n",
       "      <th>good_nums</th>\n",
       "      <th>bad_nums</th>\n",
       "      <th>diff</th>\n",
       "    </tr>\n",
       "  </thead>\n",
       "  <tbody>\n",
       "    <tr>\n",
       "      <th>0</th>\n",
       "      <td>accompanying note consolidated</td>\n",
       "      <td>9.773333</td>\n",
       "      <td>23.7600</td>\n",
       "      <td>4.886667</td>\n",
       "      <td>3.960000</td>\n",
       "      <td>3</td>\n",
       "      <td>1</td>\n",
       "      <td>2</td>\n",
       "    </tr>\n",
       "    <tr>\n",
       "      <th>1</th>\n",
       "      <td>accompanying note integral</td>\n",
       "      <td>10.557500</td>\n",
       "      <td>21.6950</td>\n",
       "      <td>7.038333</td>\n",
       "      <td>7.231667</td>\n",
       "      <td>4</td>\n",
       "      <td>2</td>\n",
       "      <td>2</td>\n",
       "    </tr>\n",
       "    <tr>\n",
       "      <th>2</th>\n",
       "      <td>acmp</td>\n",
       "      <td>0.000000</td>\n",
       "      <td>21.9800</td>\n",
       "      <td>0.000000</td>\n",
       "      <td>3.663333</td>\n",
       "      <td>0</td>\n",
       "      <td>1</td>\n",
       "      <td>1</td>\n",
       "    </tr>\n",
       "    <tr>\n",
       "      <th>3</th>\n",
       "      <td>activity cash flow</td>\n",
       "      <td>10.975000</td>\n",
       "      <td>21.0660</td>\n",
       "      <td>7.316667</td>\n",
       "      <td>17.555000</td>\n",
       "      <td>4</td>\n",
       "      <td>5</td>\n",
       "      <td>1</td>\n",
       "    </tr>\n",
       "    <tr>\n",
       "      <th>4</th>\n",
       "      <td>adjusted ebitda</td>\n",
       "      <td>0.000000</td>\n",
       "      <td>22.2825</td>\n",
       "      <td>0.000000</td>\n",
       "      <td>14.855000</td>\n",
       "      <td>0</td>\n",
       "      <td>4</td>\n",
       "      <td>4</td>\n",
       "    </tr>\n",
       "  </tbody>\n",
       "</table>\n",
       "</div>"
      ],
      "text/plain": [
       "                             word  good_score  bad_score  good_score_all  \\\n",
       "0  accompanying note consolidated    9.773333    23.7600        4.886667   \n",
       "1      accompanying note integral   10.557500    21.6950        7.038333   \n",
       "2                            acmp    0.000000    21.9800        0.000000   \n",
       "3              activity cash flow   10.975000    21.0660        7.316667   \n",
       "4                 adjusted ebitda    0.000000    22.2825        0.000000   \n",
       "\n",
       "   bad_score_all  good_nums  bad_nums  diff  \n",
       "0       3.960000          3         1     2  \n",
       "1       7.231667          4         2     2  \n",
       "2       3.663333          0         1     1  \n",
       "3      17.555000          4         5     1  \n",
       "4      14.855000          0         4     4  "
      ]
     },
     "execution_count": 5,
     "metadata": {},
     "output_type": "execute_result"
    }
   ],
   "source": [
    "df.head()"
   ]
  },
  {
   "cell_type": "code",
   "execution_count": 237,
   "metadata": {},
   "outputs": [],
   "source": [
    "comp = pd.read_csv(\"data/sp500_component_stocks.csv\")\n"
   ]
  },
  {
   "cell_type": "code",
   "execution_count": 241,
   "metadata": {},
   "outputs": [
    {
     "data": {
      "text/plain": [
       "79    Citigroup Inc.\n",
       "Name: Agilent Technologies Inc., dtype: object"
      ]
     },
     "execution_count": 241,
     "metadata": {},
     "output_type": "execute_result"
    }
   ],
   "source": [
    "comp[comp['A'] == \"C\"][\"Agilent Technologies Inc.\"]"
   ]
  },
  {
   "cell_type": "code",
   "execution_count": 140,
   "metadata": {},
   "outputs": [
    {
     "data": {
      "text/plain": [
       "44                   Apache Corporation\n",
       "111         Cabot Oil & Gas Corporation\n",
       "128                 Chevron Corporation\n",
       "163                  EOG Resources Inc.\n",
       "322            Marathon Oil Corporation\n",
       "358    Occidental Petroleum Corporation\n",
       "Name: Agilent Technologies Inc., dtype: object"
      ]
     },
     "execution_count": 140,
     "metadata": {},
     "output_type": "execute_result"
    }
   ],
   "source": [
    "\n",
    "comp[comp['A'].isin(good_companies)][\"Agilent Technologies Inc.\"]"
   ]
  },
  {
   "cell_type": "code",
   "execution_count": 141,
   "metadata": {},
   "outputs": [
    {
     "data": {
      "text/plain": [
       "215            Halliburton Company\n",
       "274      Kinder Morgan Inc Class P\n",
       "343    National Oilwell Varco Inc.\n",
       "354                     ONEOK Inc.\n",
       "411                Schlumberger NV\n",
       "487        Williams Companies Inc.\n",
       "Name: Agilent Technologies Inc., dtype: object"
      ]
     },
     "execution_count": 141,
     "metadata": {},
     "output_type": "execute_result"
    }
   ],
   "source": [
    "comp[comp['A'].isin(bad_companies)][\"Agilent Technologies Inc.\"]"
   ]
  },
  {
   "cell_type": "code",
   "execution_count": null,
   "metadata": {},
   "outputs": [],
   "source": []
  }
 ],
 "metadata": {
  "interpreter": {
   "hash": "bcf325ffca4e7352bcfac699b7999bb028ddd94d8390136137b75043a4ee01b0"
  },
  "kernelspec": {
   "display_name": "Python 3.9.4 64-bit ('venv': venv)",
   "name": "python3"
  },
  "language_info": {
   "codemirror_mode": {
    "name": "ipython",
    "version": 3
   },
   "file_extension": ".py",
   "mimetype": "text/x-python",
   "name": "python",
   "nbconvert_exporter": "python",
   "pygments_lexer": "ipython3",
   "version": "3.9.4"
  },
  "orig_nbformat": 4
 },
 "nbformat": 4,
 "nbformat_minor": 2
}
