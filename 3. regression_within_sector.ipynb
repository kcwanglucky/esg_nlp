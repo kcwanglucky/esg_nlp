{
 "cells": [
  {
   "cell_type": "code",
   "execution_count": 65,
   "source": [
    "import pandas as pd\n",
    "from time import gmtime, strftime\n",
    "import time\n",
    "import os\n",
    "from tqdm import tqdm\n",
    "import pickle\n",
    "from scipy.stats import linregress\n",
    "from collections import defaultdict\n",
    "\n",
    "from utils.crawler import Scrape10K, Scrape10Q, ConvertHTML\n",
    "from utils.preprocessing import get_texts"
   ],
   "outputs": [],
   "metadata": {}
  },
  {
   "cell_type": "code",
   "execution_count": 3,
   "source": [
    "df = pd.read_excel(\"data/esg_score.xlsx\", sheet_name = \"data\")"
   ],
   "outputs": [],
   "metadata": {}
  },
  {
   "cell_type": "code",
   "execution_count": 4,
   "source": [
    "energy_tickers = df[df[\"sector\"] == \"Energy\"][\"Company\"]"
   ],
   "outputs": [],
   "metadata": {}
  },
  {
   "cell_type": "code",
   "execution_count": 30,
   "source": [
    "esg_energy = df[df[\"sector\"] == \"Energy\"][[\"Company\", \"socialScore\", \"governanceScore\", \"environmentScore\"]]"
   ],
   "outputs": [],
   "metadata": {}
  },
  {
   "cell_type": "code",
   "execution_count": 5,
   "source": [
    "len(energy_tickers)"
   ],
   "outputs": [
    {
     "output_type": "execute_result",
     "data": {
      "text/plain": [
       "20"
      ]
     },
     "metadata": {},
     "execution_count": 5
    }
   ],
   "metadata": {}
  },
  {
   "cell_type": "code",
   "execution_count": 6,
   "source": [
    "ticker_library = pd.read_csv(os.path.join(\"data\", \"tickers.csv\"))"
   ],
   "outputs": [
    {
     "output_type": "stream",
     "name": "stderr",
     "text": [
      "/Users/luckywang/Documents/Document/Course Material/Fall 2021/esg_nlp/venv/lib/python3.9/site-packages/IPython/core/interactiveshell.py:3441: DtypeWarning: Columns (15,16) have mixed types.Specify dtype option on import or set low_memory=False.\n",
      "  exec(code_obj, self.user_global_ns, self.user_ns)\n"
     ]
    }
   ],
   "metadata": {}
  },
  {
   "cell_type": "code",
   "execution_count": 7,
   "source": [
    "energy_cik = []\n",
    "for ticker in energy_tickers:    \n",
    "    try:\n",
    "        # for a given ticker, find its cik number through th ticker library\n",
    "        energy_cik.append(ticker_library[ticker_library.ticker == ticker].secfilings.values[0][-10:])\n",
    "    except:\n",
    "        # if could not find cik, give it a empty cik\n",
    "        energy_cik.append('')"
   ],
   "outputs": [],
   "metadata": {}
  },
  {
   "cell_type": "markdown",
   "source": [
    "# Analysis based on Energy sector"
   ],
   "metadata": {}
  },
  {
   "cell_type": "markdown",
   "source": [
    "## Scrape Energy sector"
   ],
   "metadata": {}
  },
  {
   "cell_type": "code",
   "execution_count": 8,
   "source": [
    "browse_url_base_10k = 'https://www.sec.gov/cgi-bin/browse-edgar?action=getcompany&CIK=%s&type=10-K'\n",
    "filing_url_base = 'http://www.sec.gov/Archives/edgar/data/%s/%s-index.html'\n",
    "doc_url_base = 'http://www.sec.gov/Archives/edgar/data/%s/%s/%s'\n",
    "\n",
    "browse_url_base_10q = 'https://www.sec.gov/cgi-bin/browse-edgar?action=getcompany&CIK=%s&type=10-Q&count=1000'\n",
    "\n",
    "# Initialize log file\n",
    "# (log file name = the time we initiate scraping session)\n",
    "t = strftime(\"%Y_%m_%d_%H_%M_%S\", gmtime())\n",
    "log_file_name = t + \".txt\"\n",
    "log_file_path = os.path.join(\"log\", log_file_name)\n",
    "\n",
    "with open(log_file_path, 'a') as log_file:\n",
    "    log_file.close()\n",
    "\n",
    "# Iterate over CIKs and scrape 10-Ks\n",
    "for cik in tqdm(energy_cik):\n",
    "    time.sleep(5)\n",
    "    Scrape10K(browse_url_base=browse_url_base_10k, \n",
    "          filing_url_base=filing_url_base, \n",
    "          doc_url_base=doc_url_base, \n",
    "          cik=cik,\n",
    "          log_file_name=log_file_path)\n",
    "\n",
    "    time.sleep(5)\n",
    "    Scrape10Q(browse_url_base = browse_url_base_10q, \n",
    "          filing_url_base = filing_url_base, \n",
    "          doc_url_base = doc_url_base, \n",
    "          cik = cik,\n",
    "          log_file_name = log_file_path)\n",
    "    \n",
    "\n",
    "#return to the main menu"
   ],
   "outputs": [
    {
     "output_type": "stream",
     "name": "stderr",
     "text": [
      "  0%|          | 0/20 [00:00<?, ?it/s]"
     ]
    },
    {
     "output_type": "stream",
     "name": "stdout",
     "text": [
      "Already scraped CIK 0000858470\n"
     ]
    },
    {
     "output_type": "stream",
     "name": "stderr",
     "text": [
      "  5%|▌         | 1/20 [00:10<03:10, 10.00s/it]"
     ]
    },
    {
     "output_type": "stream",
     "name": "stdout",
     "text": [
      "Already scraped CIK 0000858470\n",
      "Already scraped CIK 0000101778\n"
     ]
    },
    {
     "output_type": "stream",
     "name": "stderr",
     "text": [
      "  5%|▌         | 1/20 [00:19<06:07, 19.35s/it]\n"
     ]
    },
    {
     "output_type": "error",
     "ename": "KeyboardInterrupt",
     "evalue": "",
     "traceback": [
      "\u001b[0;31m---------------------------------------------------------------------------\u001b[0m",
      "\u001b[0;31mKeyboardInterrupt\u001b[0m                         Traceback (most recent call last)",
      "\u001b[0;32m/var/folders/cx/74c09p4917dbnxyclq4tvqkc0000gn/T/ipykernel_61714/2160192846.py\u001b[0m in \u001b[0;36m<module>\u001b[0;34m\u001b[0m\n\u001b[1;32m     23\u001b[0m           log_file_name=log_file_path)\n\u001b[1;32m     24\u001b[0m \u001b[0;34m\u001b[0m\u001b[0m\n\u001b[0;32m---> 25\u001b[0;31m     \u001b[0mtime\u001b[0m\u001b[0;34m.\u001b[0m\u001b[0msleep\u001b[0m\u001b[0;34m(\u001b[0m\u001b[0;36m5\u001b[0m\u001b[0;34m)\u001b[0m\u001b[0;34m\u001b[0m\u001b[0;34m\u001b[0m\u001b[0m\n\u001b[0m\u001b[1;32m     26\u001b[0m     Scrape10Q(browse_url_base = browse_url_base_10q, \n\u001b[1;32m     27\u001b[0m           \u001b[0mfiling_url_base\u001b[0m \u001b[0;34m=\u001b[0m \u001b[0mfiling_url_base\u001b[0m\u001b[0;34m,\u001b[0m\u001b[0;34m\u001b[0m\u001b[0;34m\u001b[0m\u001b[0m\n",
      "\u001b[0;31mKeyboardInterrupt\u001b[0m: "
     ]
    }
   ],
   "metadata": {}
  },
  {
   "cell_type": "code",
   "execution_count": 9,
   "source": [
    "# For 10-Ks...\n",
    "# -*- coding: utf-8 -*-\n",
    "dir_10k = os.path.join(\"data\", \"10k\")\n",
    "dir_10q = os.path.join(\"data\", \"10q\")\n",
    "\n",
    "# Iterate over CIKs and clean HTML filings\n",
    "for cik in tqdm(energy_cik):\n",
    "    ConvertHTML(cik, dir_10k)\n",
    "\n",
    "# For 10-Qs...\n",
    "\n",
    "# Iterate over CIKs and clean HTML filings\n",
    "for cik in tqdm(energy_cik):\n",
    "    ConvertHTML(cik, dir_10q)"
   ],
   "outputs": [
    {
     "output_type": "stream",
     "name": "stderr",
     "text": [
      "100%|██████████| 20/20 [12:47<00:00, 38.39s/it]\n",
      "100%|██████████| 20/20 [13:43<00:00, 41.16s/it]\n"
     ]
    }
   ],
   "metadata": {}
  },
  {
   "cell_type": "code",
   "execution_count": 89,
   "source": [
    "energy_cik[:1]"
   ],
   "outputs": [
    {
     "output_type": "execute_result",
     "data": {
      "text/plain": [
       "['0000858470']"
      ]
     },
     "metadata": {},
     "execution_count": 89
    }
   ],
   "metadata": {}
  },
  {
   "cell_type": "code",
   "execution_count": 11,
   "source": [
    "ret = get_texts(energy_cik, energy_tickers)"
   ],
   "outputs": [
    {
     "output_type": "stream",
     "name": "stderr",
     "text": [
      "0it [00:00, ?it/s]"
     ]
    },
    {
     "output_type": "stream",
     "name": "stdout",
     "text": [
      "data/10k/0000858470/pickle/agg_texts.pkl\n",
      "data/10k/0000858470/pickle/token_counter.pkl\n"
     ]
    },
    {
     "output_type": "stream",
     "name": "stderr",
     "text": [
      "1it [01:01, 61.55s/it]"
     ]
    },
    {
     "output_type": "stream",
     "name": "stdout",
     "text": [
      "data/10q/0000858470/pickle/agg_texts.pkl\n",
      "data/10q/0000858470/pickle/token_counter.pkl\n",
      "data/10k/0000101778/pickle/agg_texts.pkl\n",
      "data/10k/0000101778/pickle/token_counter.pkl\n",
      "data/10q/0000101778/pickle/agg_texts.pkl\n",
      "data/10q/0000101778/pickle/token_counter.pkl\n"
     ]
    },
    {
     "output_type": "stream",
     "name": "stderr",
     "text": [
      "2it [03:09, 100.32s/it]"
     ]
    },
    {
     "output_type": "stream",
     "name": "stdout",
     "text": [
      "data/10k/0000093410/pickle/agg_texts.pkl\n",
      "data/10k/0000093410/pickle/token_counter.pkl\n",
      "data/10q/0000093410/pickle/agg_texts.pkl\n",
      "data/10q/0000093410/pickle/token_counter.pkl\n"
     ]
    },
    {
     "output_type": "stream",
     "name": "stderr",
     "text": [
      "3it [05:38, 122.93s/it]"
     ]
    },
    {
     "output_type": "stream",
     "name": "stdout",
     "text": [
      "data/10k/0000821189/pickle/agg_texts.pkl\n",
      "data/10k/0000821189/pickle/token_counter.pkl\n"
     ]
    },
    {
     "output_type": "stream",
     "name": "stderr",
     "text": [
      "4it [06:56, 104.89s/it]"
     ]
    },
    {
     "output_type": "stream",
     "name": "stdout",
     "text": [
      "data/10q/0000821189/pickle/agg_texts.pkl\n",
      "data/10q/0000821189/pickle/token_counter.pkl\n",
      "data/10k/0000006769/pickle/agg_texts.pkl\n",
      "data/10k/0000006769/pickle/token_counter.pkl\n",
      "data/10q/0000006769/pickle/agg_texts.pkl\n",
      "data/10q/0000006769/pickle/token_counter.pkl\n"
     ]
    },
    {
     "output_type": "stream",
     "name": "stderr",
     "text": [
      "5it [08:44, 106.03s/it]"
     ]
    },
    {
     "output_type": "stream",
     "name": "stdout",
     "text": [
      "data/10k/0000797468/pickle/agg_texts.pkl\n",
      "data/10k/0000797468/pickle/token_counter.pkl\n"
     ]
    },
    {
     "output_type": "stream",
     "name": "stderr",
     "text": [
      "6it [11:37, 128.78s/it]"
     ]
    },
    {
     "output_type": "stream",
     "name": "stdout",
     "text": [
      "data/10q/0000797468/pickle/agg_texts.pkl\n",
      "data/10q/0000797468/pickle/token_counter.pkl\n",
      "data/10k/0001163165/pickle/agg_texts.pkl\n",
      "data/10k/0001163165/pickle/token_counter.pkl\n",
      "data/10q/0001163165/pickle/agg_texts.pkl\n",
      "data/10q/0001163165/pickle/token_counter.pkl\n"
     ]
    },
    {
     "output_type": "stream",
     "name": "stderr",
     "text": [
      "7it [12:34, 105.31s/it]"
     ]
    },
    {
     "output_type": "stream",
     "name": "stdout",
     "text": [
      "data/10k/0000034088/pickle/agg_texts.pkl\n",
      "data/10k/0000034088/pickle/token_counter.pkl\n"
     ]
    },
    {
     "output_type": "stream",
     "name": "stderr",
     "text": [
      "8it [13:25, 88.15s/it] "
     ]
    },
    {
     "output_type": "stream",
     "name": "stdout",
     "text": [
      "data/10q/0000034088/pickle/agg_texts.pkl\n",
      "data/10q/0000034088/pickle/token_counter.pkl\n",
      "data/10k/0001038357/pickle/agg_texts.pkl\n",
      "data/10k/0001038357/pickle/token_counter.pkl\n",
      "data/10q/0001038357/pickle/agg_texts.pkl\n",
      "data/10q/0001038357/pickle/token_counter.pkl\n"
     ]
    },
    {
     "output_type": "stream",
     "name": "stderr",
     "text": [
      "9it [14:58, 89.54s/it]"
     ]
    },
    {
     "output_type": "stream",
     "name": "stdout",
     "text": [
      "data/10k/0001021860/pickle/agg_texts.pkl\n",
      "data/10k/0001021860/pickle/token_counter.pkl\n"
     ]
    },
    {
     "output_type": "stream",
     "name": "stderr",
     "text": [
      "10it [15:33, 72.94s/it]"
     ]
    },
    {
     "output_type": "stream",
     "name": "stdout",
     "text": [
      "data/10q/0001021860/pickle/agg_texts.pkl\n",
      "data/10q/0001021860/pickle/token_counter.pkl\n",
      "data/10k/0001534701/pickle/agg_texts.pkl\n",
      "data/10k/0001534701/pickle/token_counter.pkl\n"
     ]
    },
    {
     "output_type": "stream",
     "name": "stderr",
     "text": [
      "11it [16:51, 74.36s/it]"
     ]
    },
    {
     "output_type": "stream",
     "name": "stdout",
     "text": [
      "data/10q/0001534701/pickle/agg_texts.pkl\n",
      "data/10q/0001534701/pickle/token_counter.pkl\n",
      "data/10k/0001090012/pickle/agg_texts.pkl\n",
      "data/10k/0001090012/pickle/token_counter.pkl\n",
      "data/10q/0001090012/pickle/agg_texts.pkl\n",
      "data/10q/0001090012/pickle/token_counter.pkl\n"
     ]
    },
    {
     "output_type": "stream",
     "name": "stderr",
     "text": [
      "12it [17:37, 65.68s/it]"
     ]
    },
    {
     "output_type": "stream",
     "name": "stdout",
     "text": [
      "data/10k/0000004447/pickle/agg_texts.pkl\n",
      "data/10k/0000004447/pickle/token_counter.pkl\n"
     ]
    },
    {
     "output_type": "stream",
     "name": "stderr",
     "text": [
      "13it [18:53, 68.76s/it]"
     ]
    },
    {
     "output_type": "stream",
     "name": "stdout",
     "text": [
      "data/10q/0000004447/pickle/agg_texts.pkl\n",
      "data/10q/0000004447/pickle/token_counter.pkl\n",
      "data/10k/0001035002/pickle/agg_texts.pkl\n",
      "data/10k/0001035002/pickle/token_counter.pkl\n",
      "data/10q/0001035002/pickle/agg_texts.pkl\n",
      "data/10q/0001035002/pickle/token_counter.pkl\n"
     ]
    },
    {
     "output_type": "stream",
     "name": "stderr",
     "text": [
      "14it [20:31, 77.79s/it]"
     ]
    },
    {
     "output_type": "stream",
     "name": "stdout",
     "text": [
      "data/10k/0001510295/pickle/agg_texts.pkl\n",
      "data/10k/0001510295/pickle/token_counter.pkl\n"
     ]
    },
    {
     "output_type": "stream",
     "name": "stderr",
     "text": [
      "15it [21:41, 75.36s/it]"
     ]
    },
    {
     "output_type": "stream",
     "name": "stdout",
     "text": [
      "data/10q/0001510295/pickle/agg_texts.pkl\n",
      "data/10q/0001510295/pickle/token_counter.pkl\n",
      "data/10k/0001039684/pickle/agg_texts.pkl\n",
      "data/10k/0001039684/pickle/token_counter.pkl\n",
      "data/10q/0001039684/pickle/agg_texts.pkl\n",
      "data/10q/0001039684/pickle/token_counter.pkl\n"
     ]
    },
    {
     "output_type": "stream",
     "name": "stderr",
     "text": [
      "16it [23:36, 87.25s/it]"
     ]
    },
    {
     "output_type": "stream",
     "name": "stdout",
     "text": [
      "data/10k/0000045012/pickle/agg_texts.pkl\n",
      "data/10k/0000045012/pickle/token_counter.pkl\n",
      "data/10q/0000045012/pickle/agg_texts.pkl\n",
      "data/10q/0000045012/pickle/token_counter.pkl\n"
     ]
    },
    {
     "output_type": "stream",
     "name": "stderr",
     "text": [
      "17it [24:31, 77.53s/it]"
     ]
    },
    {
     "output_type": "stream",
     "name": "stdout",
     "text": [
      "data/10k/0000087347/pickle/agg_texts.pkl\n",
      "data/10k/0000087347/pickle/token_counter.pkl\n"
     ]
    },
    {
     "output_type": "stream",
     "name": "stderr",
     "text": [
      "18it [24:58, 62.40s/it]"
     ]
    },
    {
     "output_type": "stream",
     "name": "stdout",
     "text": [
      "data/10q/0000087347/pickle/agg_texts.pkl\n",
      "data/10q/0000087347/pickle/token_counter.pkl\n",
      "data/10k/0000107263/pickle/agg_texts.pkl\n",
      "data/10k/0000107263/pickle/token_counter.pkl\n",
      "data/10q/0000107263/pickle/agg_texts.pkl\n",
      "data/10q/0000107263/pickle/token_counter.pkl\n"
     ]
    },
    {
     "output_type": "stream",
     "name": "stderr",
     "text": [
      "19it [28:30, 107.37s/it]"
     ]
    },
    {
     "output_type": "stream",
     "name": "stdout",
     "text": [
      "data/10k/0001506307/pickle/agg_texts.pkl\n",
      "data/10k/0001506307/pickle/token_counter.pkl\n",
      "data/10q/0001506307/pickle/agg_texts.pkl\n",
      "data/10q/0001506307/pickle/token_counter.pkl\n"
     ]
    },
    {
     "output_type": "stream",
     "name": "stderr",
     "text": [
      "20it [31:39, 94.98s/it] \n"
     ]
    }
   ],
   "metadata": {}
  },
  {
   "cell_type": "code",
   "execution_count": 13,
   "source": [
    "docs = ret[\"docs\"]"
   ],
   "outputs": [],
   "metadata": {}
  },
  {
   "cell_type": "code",
   "execution_count": 15,
   "source": [
    "counters = ret[\"counters\"]"
   ],
   "outputs": [],
   "metadata": {}
  },
  {
   "cell_type": "markdown",
   "source": [
    "## Regression of E, S, G score on indicator function(occurence of word_i)"
   ],
   "metadata": {}
  },
  {
   "cell_type": "markdown",
   "source": [
    "Company - word table: 1 if word occurs in a certain doc, else 0"
   ],
   "metadata": {}
  },
  {
   "cell_type": "code",
   "execution_count": 22,
   "source": [
    "energy_dictionary = list()\n",
    "for ticker in energy_tickers.values:\n",
    "    energy_dictionary.extend(counters[ticker].keys())"
   ],
   "outputs": [],
   "metadata": {}
  },
  {
   "cell_type": "code",
   "execution_count": 24,
   "source": [
    "energy_dictionary = set(energy_dictionary)\n",
    "print(\"Number of distinct words: {}\".format(len(energy_dictionary)))"
   ],
   "outputs": [
    {
     "output_type": "stream",
     "name": "stdout",
     "text": [
      "Number of distinct words: 30198\n"
     ]
    }
   ],
   "metadata": {}
  },
  {
   "cell_type": "code",
   "execution_count": 33,
   "source": [
    "esg_energy[\"{}Score\".format(\"social\")]"
   ],
   "outputs": [
    {
     "output_type": "execute_result",
     "data": {
      "text/plain": [
       "1      14.01\n",
       "3      10.27\n",
       "4      10.67\n",
       "7      11.06\n",
       "8       8.88\n",
       "10     10.85\n",
       "18      9.83\n",
       "19     10.57\n",
       "35      9.14\n",
       "38     11.64\n",
       "39      8.08\n",
       "47      8.32\n",
       "68      6.36\n",
       "86      6.87\n",
       "96      6.71\n",
       "135     8.13\n",
       "164     9.62\n",
       "172     9.82\n",
       "236     8.52\n",
       "290     6.09\n",
       "Name: socialScore, dtype: float64"
      ]
     },
     "metadata": {},
     "execution_count": 33
    }
   ],
   "metadata": {}
  },
  {
   "cell_type": "code",
   "execution_count": 50,
   "source": [
    "energy_dictionary.remove('')"
   ],
   "outputs": [],
   "metadata": {}
  },
  {
   "cell_type": "code",
   "execution_count": 78,
   "source": [
    "word_count = defaultdict(int)\n",
    "for word in energy_dictionary:\n",
    "    cnt = 0\n",
    "    for ticker in energy_tickers:\n",
    "        cnt += counters[ticker].get(word, 0)\n",
    "    word_count[word] += cnt\n",
    "    \n",
    "top_k_word = [k for k, v in sorted(word_count.items(), key=lambda item: item[1], reverse=True)][:5000]"
   ],
   "outputs": [],
   "metadata": {}
  },
  {
   "cell_type": "code",
   "execution_count": 79,
   "source": [
    "df_ind = pd.DataFrame(columns=[\"social_beta\", \"governance_beta\", \"environment_beta\"], index = top_k_word)\n"
   ],
   "outputs": [],
   "metadata": {}
  },
  {
   "cell_type": "code",
   "execution_count": 80,
   "source": [
    "df_ind.head()"
   ],
   "outputs": [
    {
     "output_type": "execute_result",
     "data": {
      "text/html": [
       "<div>\n",
       "<style scoped>\n",
       "    .dataframe tbody tr th:only-of-type {\n",
       "        vertical-align: middle;\n",
       "    }\n",
       "\n",
       "    .dataframe tbody tr th {\n",
       "        vertical-align: top;\n",
       "    }\n",
       "\n",
       "    .dataframe thead th {\n",
       "        text-align: right;\n",
       "    }\n",
       "</style>\n",
       "<table border=\"1\" class=\"dataframe\">\n",
       "  <thead>\n",
       "    <tr style=\"text-align: right;\">\n",
       "      <th></th>\n",
       "      <th>social_beta</th>\n",
       "      <th>governance_beta</th>\n",
       "      <th>environment_beta</th>\n",
       "    </tr>\n",
       "  </thead>\n",
       "  <tbody>\n",
       "    <tr>\n",
       "      <th>million</th>\n",
       "      <td>NaN</td>\n",
       "      <td>NaN</td>\n",
       "      <td>NaN</td>\n",
       "    </tr>\n",
       "    <tr>\n",
       "      <th>oper</th>\n",
       "      <td>NaN</td>\n",
       "      <td>NaN</td>\n",
       "      <td>NaN</td>\n",
       "    </tr>\n",
       "    <tr>\n",
       "      <th>ga</th>\n",
       "      <td>NaN</td>\n",
       "      <td>NaN</td>\n",
       "      <td>NaN</td>\n",
       "    </tr>\n",
       "    <tr>\n",
       "      <th>financi</th>\n",
       "      <td>NaN</td>\n",
       "      <td>NaN</td>\n",
       "      <td>NaN</td>\n",
       "    </tr>\n",
       "    <tr>\n",
       "      <th>compani</th>\n",
       "      <td>NaN</td>\n",
       "      <td>NaN</td>\n",
       "      <td>NaN</td>\n",
       "    </tr>\n",
       "  </tbody>\n",
       "</table>\n",
       "</div>"
      ],
      "text/plain": [
       "        social_beta governance_beta environment_beta\n",
       "million         NaN             NaN              NaN\n",
       "oper            NaN             NaN              NaN\n",
       "ga              NaN             NaN              NaN\n",
       "financi         NaN             NaN              NaN\n",
       "compani         NaN             NaN              NaN"
      ]
     },
     "metadata": {},
     "execution_count": 80
    }
   ],
   "metadata": {}
  },
  {
   "cell_type": "code",
   "execution_count": 82,
   "source": [
    "for typ in [\"social\", \"governance\", \"environment\"]:\n",
    "    score = esg_energy[\"{}Score\".format(typ)]\n",
    "    slopes = []\n",
    "    for word in top_k_word:\n",
    "        inds = []\n",
    "        for ticker in energy_tickers:\n",
    "            if word in counters[ticker]:\n",
    "                inds.append(1)\n",
    "            else:\n",
    "                inds.append(0)\n",
    "        slope, intercept, *_ = linregress(inds, score)\n",
    "        slopes.append(slope)\n",
    "    df_ind[\"{}_beta\".format(typ)] = slopes"
   ],
   "outputs": [],
   "metadata": {}
  },
  {
   "cell_type": "code",
   "execution_count": 85,
   "source": [
    "df_ind"
   ],
   "outputs": [
    {
     "output_type": "execute_result",
     "data": {
      "text/html": [
       "<div>\n",
       "<style scoped>\n",
       "    .dataframe tbody tr th:only-of-type {\n",
       "        vertical-align: middle;\n",
       "    }\n",
       "\n",
       "    .dataframe tbody tr th {\n",
       "        vertical-align: top;\n",
       "    }\n",
       "\n",
       "    .dataframe thead th {\n",
       "        text-align: right;\n",
       "    }\n",
       "</style>\n",
       "<table border=\"1\" class=\"dataframe\">\n",
       "  <thead>\n",
       "    <tr style=\"text-align: right;\">\n",
       "      <th></th>\n",
       "      <th>social_beta</th>\n",
       "      <th>governance_beta</th>\n",
       "      <th>environment_beta</th>\n",
       "    </tr>\n",
       "  </thead>\n",
       "  <tbody>\n",
       "    <tr>\n",
       "      <th>million</th>\n",
       "      <td>NaN</td>\n",
       "      <td>NaN</td>\n",
       "      <td>NaN</td>\n",
       "    </tr>\n",
       "    <tr>\n",
       "      <th>oper</th>\n",
       "      <td>NaN</td>\n",
       "      <td>NaN</td>\n",
       "      <td>NaN</td>\n",
       "    </tr>\n",
       "    <tr>\n",
       "      <th>ga</th>\n",
       "      <td>NaN</td>\n",
       "      <td>NaN</td>\n",
       "      <td>NaN</td>\n",
       "    </tr>\n",
       "    <tr>\n",
       "      <th>financi</th>\n",
       "      <td>NaN</td>\n",
       "      <td>NaN</td>\n",
       "      <td>NaN</td>\n",
       "    </tr>\n",
       "    <tr>\n",
       "      <th>compani</th>\n",
       "      <td>NaN</td>\n",
       "      <td>NaN</td>\n",
       "      <td>NaN</td>\n",
       "    </tr>\n",
       "    <tr>\n",
       "      <th>...</th>\n",
       "      <td>...</td>\n",
       "      <td>...</td>\n",
       "      <td>...</td>\n",
       "    </tr>\n",
       "    <tr>\n",
       "      <th>mpl</th>\n",
       "      <td>-0.868889</td>\n",
       "      <td>0.390556</td>\n",
       "      <td>3.712778</td>\n",
       "    </tr>\n",
       "    <tr>\n",
       "      <th>ryan</th>\n",
       "      <td>0.432941</td>\n",
       "      <td>-0.892353</td>\n",
       "      <td>-1.304118</td>\n",
       "    </tr>\n",
       "    <tr>\n",
       "      <th>taae</th>\n",
       "      <td>-2.696842</td>\n",
       "      <td>-1.072105</td>\n",
       "      <td>-1.061579</td>\n",
       "    </tr>\n",
       "    <tr>\n",
       "      <th>ware</th>\n",
       "      <td>0.558889</td>\n",
       "      <td>2.340556</td>\n",
       "      <td>5.629444</td>\n",
       "    </tr>\n",
       "    <tr>\n",
       "      <th>nontradit</th>\n",
       "      <td>0.763810</td>\n",
       "      <td>0.914048</td>\n",
       "      <td>5.256905</td>\n",
       "    </tr>\n",
       "  </tbody>\n",
       "</table>\n",
       "<p>5000 rows × 3 columns</p>\n",
       "</div>"
      ],
      "text/plain": [
       "           social_beta  governance_beta  environment_beta\n",
       "million            NaN              NaN               NaN\n",
       "oper               NaN              NaN               NaN\n",
       "ga                 NaN              NaN               NaN\n",
       "financi            NaN              NaN               NaN\n",
       "compani            NaN              NaN               NaN\n",
       "...                ...              ...               ...\n",
       "mpl          -0.868889         0.390556          3.712778\n",
       "ryan          0.432941        -0.892353         -1.304118\n",
       "taae         -2.696842        -1.072105         -1.061579\n",
       "ware          0.558889         2.340556          5.629444\n",
       "nontradit     0.763810         0.914048          5.256905\n",
       "\n",
       "[5000 rows x 3 columns]"
      ]
     },
     "metadata": {},
     "execution_count": 85
    }
   ],
   "metadata": {}
  },
  {
   "cell_type": "code",
   "execution_count": 86,
   "source": [
    "df_ind.sort_values(by=[\"social_beta\", \"governance_beta\", \"environment_beta\"], ascending=False)"
   ],
   "outputs": [
    {
     "output_type": "execute_result",
     "data": {
      "text/html": [
       "<div>\n",
       "<style scoped>\n",
       "    .dataframe tbody tr th:only-of-type {\n",
       "        vertical-align: middle;\n",
       "    }\n",
       "\n",
       "    .dataframe tbody tr th {\n",
       "        vertical-align: top;\n",
       "    }\n",
       "\n",
       "    .dataframe thead th {\n",
       "        text-align: right;\n",
       "    }\n",
       "</style>\n",
       "<table border=\"1\" class=\"dataframe\">\n",
       "  <thead>\n",
       "    <tr style=\"text-align: right;\">\n",
       "      <th></th>\n",
       "      <th>social_beta</th>\n",
       "      <th>governance_beta</th>\n",
       "      <th>environment_beta</th>\n",
       "    </tr>\n",
       "  </thead>\n",
       "  <tbody>\n",
       "    <tr>\n",
       "      <th>cog</th>\n",
       "      <td>4.987368</td>\n",
       "      <td>2.422632</td>\n",
       "      <td>7.706842</td>\n",
       "    </tr>\n",
       "    <tr>\n",
       "      <th>ding</th>\n",
       "      <td>4.987368</td>\n",
       "      <td>2.422632</td>\n",
       "      <td>7.706842</td>\n",
       "    </tr>\n",
       "    <tr>\n",
       "      <th>schroeder</th>\n",
       "      <td>4.987368</td>\n",
       "      <td>2.422632</td>\n",
       "      <td>7.706842</td>\n",
       "    </tr>\n",
       "    <tr>\n",
       "      <th>contentscabot</th>\n",
       "      <td>4.987368</td>\n",
       "      <td>2.422632</td>\n",
       "      <td>7.706842</td>\n",
       "    </tr>\n",
       "    <tr>\n",
       "      <th>mead</th>\n",
       "      <td>4.987368</td>\n",
       "      <td>2.422632</td>\n",
       "      <td>7.706842</td>\n",
       "    </tr>\n",
       "    <tr>\n",
       "      <th>...</th>\n",
       "      <td>...</td>\n",
       "      <td>...</td>\n",
       "      <td>...</td>\n",
       "    </tr>\n",
       "    <tr>\n",
       "      <th>fewer</th>\n",
       "      <td>NaN</td>\n",
       "      <td>NaN</td>\n",
       "      <td>NaN</td>\n",
       "    </tr>\n",
       "    <tr>\n",
       "      <th>pure</th>\n",
       "      <td>NaN</td>\n",
       "      <td>NaN</td>\n",
       "      <td>NaN</td>\n",
       "    </tr>\n",
       "    <tr>\n",
       "      <th>quickli</th>\n",
       "      <td>NaN</td>\n",
       "      <td>NaN</td>\n",
       "      <td>NaN</td>\n",
       "    </tr>\n",
       "    <tr>\n",
       "      <th>attest</th>\n",
       "      <td>NaN</td>\n",
       "      <td>NaN</td>\n",
       "      <td>NaN</td>\n",
       "    </tr>\n",
       "    <tr>\n",
       "      <th>cultur</th>\n",
       "      <td>NaN</td>\n",
       "      <td>NaN</td>\n",
       "      <td>NaN</td>\n",
       "    </tr>\n",
       "  </tbody>\n",
       "</table>\n",
       "<p>5000 rows × 3 columns</p>\n",
       "</div>"
      ],
      "text/plain": [
       "               social_beta  governance_beta  environment_beta\n",
       "cog               4.987368         2.422632          7.706842\n",
       "ding              4.987368         2.422632          7.706842\n",
       "schroeder         4.987368         2.422632          7.706842\n",
       "contentscabot     4.987368         2.422632          7.706842\n",
       "mead              4.987368         2.422632          7.706842\n",
       "...                    ...              ...               ...\n",
       "fewer                  NaN              NaN               NaN\n",
       "pure                   NaN              NaN               NaN\n",
       "quickli                NaN              NaN               NaN\n",
       "attest                 NaN              NaN               NaN\n",
       "cultur                 NaN              NaN               NaN\n",
       "\n",
       "[5000 rows x 3 columns]"
      ]
     },
     "metadata": {},
     "execution_count": 86
    }
   ],
   "metadata": {}
  },
  {
   "cell_type": "code",
   "execution_count": 61,
   "source": [
    "with open(\"dict.txt\", 'w') as f:\n",
    "    f.write('\\n'.join(list(energy_dictionary)))"
   ],
   "outputs": [],
   "metadata": {}
  },
  {
   "cell_type": "code",
   "execution_count": null,
   "source": [
    "df_ind.to_csv(os.path.join(\"data\", \"reg_result\"))"
   ],
   "outputs": [],
   "metadata": {}
  },
  {
   "cell_type": "code",
   "execution_count": null,
   "source": [
    "counters[ticker]"
   ],
   "outputs": [],
   "metadata": {}
  },
  {
   "cell_type": "code",
   "execution_count": null,
   "source": [
    "cv = CountVectorizer(max_df=0.8, stop_words=stop_words, max_features=10000)\n",
    "word_count_vector = cv.fit_transform(docs)"
   ],
   "outputs": [],
   "metadata": {}
  },
  {
   "cell_type": "code",
   "execution_count": 91,
   "source": [
    "import shutil"
   ],
   "outputs": [],
   "metadata": {}
  },
  {
   "cell_type": "code",
   "execution_count": 93,
   "source": [
    "for cik in energy_cik[1:]:\n",
    "    print(cik)\n",
    "    pkl_path = os.path.join(\"data\", \"10k\", cik, \"pickle\")\n",
    "    shutil.rmtree(pkl_path)\n",
    "    pkl_path = os.path.join(\"data\", \"10q\", cik, \"pickle\")\n",
    "    shutil.rmtree(pkl_path)"
   ],
   "outputs": [
    {
     "output_type": "stream",
     "name": "stdout",
     "text": [
      "0000101778\n",
      "0000093410\n",
      "0000821189\n",
      "0000006769\n",
      "0000797468\n",
      "0001163165\n",
      "0000034088\n",
      "0001038357\n",
      "0001021860\n",
      "0001534701\n",
      "0001090012\n",
      "0000004447\n",
      "0001035002\n",
      "0001510295\n",
      "0001039684\n",
      "0000045012\n",
      "0000087347\n",
      "0000107263\n",
      "0001506307\n"
     ]
    }
   ],
   "metadata": {}
  },
  {
   "cell_type": "code",
   "execution_count": null,
   "source": [],
   "outputs": [],
   "metadata": {}
  }
 ],
 "metadata": {
  "kernelspec": {
   "name": "python3",
   "display_name": "Python 3.9.4 64-bit ('venv': venv)"
  },
  "language_info": {
   "codemirror_mode": {
    "name": "ipython",
    "version": 3
   },
   "file_extension": ".py",
   "mimetype": "text/x-python",
   "name": "python",
   "nbconvert_exporter": "python",
   "pygments_lexer": "ipython3",
   "version": "3.9.4"
  },
  "interpreter": {
   "hash": "b893d7568335c74a8df3e912797c1bbf5cf11a7925c935f70126c10891afeb03"
  }
 },
 "nbformat": 4,
 "nbformat_minor": 5
}