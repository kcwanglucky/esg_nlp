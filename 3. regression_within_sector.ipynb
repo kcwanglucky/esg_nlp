{
 "cells": [
  {
   "cell_type": "code",
   "execution_count": 25,
   "source": [
    "import pandas as pd\n",
    "from time import gmtime, strftime\n",
    "import time\n",
    "import os\n",
    "from tqdm import tqdm\n",
    "import pickle\n",
    "from scipy.stats import linregress\n",
    "from collections import defaultdict\n",
    "from sklearn.feature_extraction.text import TfidfTransformer, CountVectorizer\n",
    "\n",
    "from utils.crawler import Scrape10K, Scrape10Q, ConvertHTML\n",
    "from utils.preprocessing import get_texts, stop_words"
   ],
   "outputs": [],
   "metadata": {}
  },
  {
   "cell_type": "code",
   "execution_count": 2,
   "source": [
    "df = pd.read_excel(\"data/esg_score.xlsx\", sheet_name = \"data\")"
   ],
   "outputs": [],
   "metadata": {}
  },
  {
   "cell_type": "code",
   "execution_count": 3,
   "source": [
    "energy_tickers = df[df[\"sector\"] == \"Energy\"][\"Company\"]"
   ],
   "outputs": [],
   "metadata": {}
  },
  {
   "cell_type": "code",
   "execution_count": 4,
   "source": [
    "esg_energy = df[df[\"sector\"] == \"Energy\"][[\"Company\", \"socialScore\", \"governanceScore\", \"environmentScore\"]]"
   ],
   "outputs": [],
   "metadata": {}
  },
  {
   "cell_type": "code",
   "execution_count": 135,
   "source": [
    "print(\"Number of companies in Energy sector: {}\".format(len(energy_tickers)))"
   ],
   "outputs": [
    {
     "output_type": "stream",
     "name": "stdout",
     "text": [
      "Number of companies in Energy sector: 20\n"
     ]
    }
   ],
   "metadata": {}
  },
  {
   "cell_type": "code",
   "execution_count": 6,
   "source": [
    "ticker_library = pd.read_csv(os.path.join(\"data\", \"tickers.csv\"))"
   ],
   "outputs": [
    {
     "output_type": "stream",
     "name": "stderr",
     "text": [
      "/Users/luckywang/Documents/Document/Course Material/Fall 2021/esg_nlp/venv/lib/python3.9/site-packages/IPython/core/interactiveshell.py:3441: DtypeWarning: Columns (15,16) have mixed types.Specify dtype option on import or set low_memory=False.\n",
      "  exec(code_obj, self.user_global_ns, self.user_ns)\n"
     ]
    }
   ],
   "metadata": {}
  },
  {
   "cell_type": "code",
   "execution_count": 7,
   "source": [
    "energy_cik = []\n",
    "for ticker in energy_tickers:    \n",
    "    try:\n",
    "        # for a given ticker, find its cik number through th ticker library\n",
    "        energy_cik.append(ticker_library[ticker_library.ticker == ticker].secfilings.values[0][-10:])\n",
    "    except:\n",
    "        # if could not find cik, give it a empty cik\n",
    "        energy_cik.append('')"
   ],
   "outputs": [],
   "metadata": {}
  },
  {
   "cell_type": "markdown",
   "source": [
    "# Analysis based on Energy sector"
   ],
   "metadata": {}
  },
  {
   "cell_type": "markdown",
   "source": [
    "## Scrape Energy sector"
   ],
   "metadata": {}
  },
  {
   "cell_type": "code",
   "execution_count": 8,
   "source": [
    "browse_url_base_10k = 'https://www.sec.gov/cgi-bin/browse-edgar?action=getcompany&CIK=%s&type=10-K'\n",
    "filing_url_base = 'http://www.sec.gov/Archives/edgar/data/%s/%s-index.html'\n",
    "doc_url_base = 'http://www.sec.gov/Archives/edgar/data/%s/%s/%s'\n",
    "\n",
    "browse_url_base_10q = 'https://www.sec.gov/cgi-bin/browse-edgar?action=getcompany&CIK=%s&type=10-Q&count=1000'\n",
    "\n",
    "# Initialize log file\n",
    "# (log file name = the time we initiate scraping session)\n",
    "t = strftime(\"%Y_%m_%d_%H_%M_%S\", gmtime())\n",
    "log_file_name = t + \".txt\"\n",
    "log_file_path = os.path.join(\"log\", log_file_name)\n",
    "\n",
    "with open(log_file_path, 'a') as log_file:\n",
    "    log_file.close()\n",
    "\n",
    "# Iterate over CIKs and scrape 10-Ks\n",
    "for cik in tqdm(energy_cik):\n",
    "    time.sleep(5)\n",
    "    Scrape10K(browse_url_base=browse_url_base_10k, \n",
    "          filing_url_base=filing_url_base, \n",
    "          doc_url_base=doc_url_base, \n",
    "          cik=cik,\n",
    "          log_file_name=log_file_path)\n",
    "\n",
    "    time.sleep(5)\n",
    "    Scrape10Q(browse_url_base = browse_url_base_10q, \n",
    "          filing_url_base = filing_url_base, \n",
    "          doc_url_base = doc_url_base, \n",
    "          cik = cik,\n",
    "          log_file_name = log_file_path)\n",
    "    \n",
    "\n",
    "#return to the main menu"
   ],
   "outputs": [
    {
     "output_type": "stream",
     "name": "stderr",
     "text": [
      "  0%|          | 0/20 [00:00<?, ?it/s]"
     ]
    },
    {
     "output_type": "stream",
     "name": "stdout",
     "text": [
      "Already scraped CIK 0000858470\n"
     ]
    },
    {
     "output_type": "stream",
     "name": "stderr",
     "text": [
      "  5%|▌         | 1/20 [00:10<03:10, 10.00s/it]"
     ]
    },
    {
     "output_type": "stream",
     "name": "stdout",
     "text": [
      "Already scraped CIK 0000858470\n",
      "Already scraped CIK 0000101778\n"
     ]
    },
    {
     "output_type": "stream",
     "name": "stderr",
     "text": [
      "  5%|▌         | 1/20 [00:19<06:07, 19.35s/it]\n"
     ]
    },
    {
     "output_type": "error",
     "ename": "KeyboardInterrupt",
     "evalue": "",
     "traceback": [
      "\u001b[0;31m---------------------------------------------------------------------------\u001b[0m",
      "\u001b[0;31mKeyboardInterrupt\u001b[0m                         Traceback (most recent call last)",
      "\u001b[0;32m/var/folders/cx/74c09p4917dbnxyclq4tvqkc0000gn/T/ipykernel_61714/2160192846.py\u001b[0m in \u001b[0;36m<module>\u001b[0;34m\u001b[0m\n\u001b[1;32m     23\u001b[0m           log_file_name=log_file_path)\n\u001b[1;32m     24\u001b[0m \u001b[0;34m\u001b[0m\u001b[0m\n\u001b[0;32m---> 25\u001b[0;31m     \u001b[0mtime\u001b[0m\u001b[0;34m.\u001b[0m\u001b[0msleep\u001b[0m\u001b[0;34m(\u001b[0m\u001b[0;36m5\u001b[0m\u001b[0;34m)\u001b[0m\u001b[0;34m\u001b[0m\u001b[0;34m\u001b[0m\u001b[0m\n\u001b[0m\u001b[1;32m     26\u001b[0m     Scrape10Q(browse_url_base = browse_url_base_10q, \n\u001b[1;32m     27\u001b[0m           \u001b[0mfiling_url_base\u001b[0m \u001b[0;34m=\u001b[0m \u001b[0mfiling_url_base\u001b[0m\u001b[0;34m,\u001b[0m\u001b[0;34m\u001b[0m\u001b[0;34m\u001b[0m\u001b[0m\n",
      "\u001b[0;31mKeyboardInterrupt\u001b[0m: "
     ]
    }
   ],
   "metadata": {}
  },
  {
   "cell_type": "markdown",
   "source": [
    "## Transform from HTML to txt"
   ],
   "metadata": {}
  },
  {
   "cell_type": "code",
   "execution_count": 9,
   "source": [
    "# For 10-Ks...\n",
    "# -*- coding: utf-8 -*-\n",
    "dir_10k = os.path.join(\"data\", \"10k\")\n",
    "dir_10q = os.path.join(\"data\", \"10q\")\n",
    "\n",
    "# Iterate over CIKs and clean HTML filings\n",
    "for cik in tqdm(energy_cik):\n",
    "    ConvertHTML(cik, dir_10k)\n",
    "\n",
    "# For 10-Qs...\n",
    "\n",
    "# Iterate over CIKs and clean HTML filings\n",
    "for cik in tqdm(energy_cik):\n",
    "    ConvertHTML(cik, dir_10q)"
   ],
   "outputs": [
    {
     "output_type": "stream",
     "name": "stderr",
     "text": [
      "100%|██████████| 20/20 [12:47<00:00, 38.39s/it]\n",
      "100%|██████████| 20/20 [13:43<00:00, 41.16s/it]\n"
     ]
    }
   ],
   "metadata": {}
  },
  {
   "cell_type": "markdown",
   "source": [
    "## Get the preprocessed texts"
   ],
   "metadata": {}
  },
  {
   "cell_type": "code",
   "execution_count": 8,
   "source": [
    "ret = get_texts(energy_cik, energy_tickers)"
   ],
   "outputs": [
    {
     "output_type": "stream",
     "name": "stderr",
     "text": [
      "20it [24:52, 74.62s/it] \n"
     ]
    }
   ],
   "metadata": {}
  },
  {
   "cell_type": "code",
   "execution_count": 9,
   "source": [
    "docs = ret[\"docs\"]"
   ],
   "outputs": [],
   "metadata": {}
  },
  {
   "cell_type": "code",
   "execution_count": 10,
   "source": [
    "counters = ret[\"counters\"]"
   ],
   "outputs": [],
   "metadata": {}
  },
  {
   "cell_type": "markdown",
   "source": [
    "# Regression of E, S, G score on indicator function(occurence of word_i)"
   ],
   "metadata": {}
  },
  {
   "cell_type": "markdown",
   "source": [
    "Company - word table: 1 if word occurs in a certain doc, else 0"
   ],
   "metadata": {}
  },
  {
   "cell_type": "code",
   "execution_count": 11,
   "source": [
    "energy_dictionary = list()\n",
    "for ticker in energy_tickers.values:\n",
    "    energy_dictionary.extend(counters[ticker].keys())"
   ],
   "outputs": [],
   "metadata": {}
  },
  {
   "cell_type": "code",
   "execution_count": 12,
   "source": [
    "energy_dictionary = set(energy_dictionary)\n",
    "print(\"Number of distinct words: {}\".format(len(energy_dictionary)))"
   ],
   "outputs": [
    {
     "output_type": "stream",
     "name": "stdout",
     "text": [
      "Number of distinct words: 35938\n"
     ]
    }
   ],
   "metadata": {}
  },
  {
   "cell_type": "code",
   "execution_count": 14,
   "source": [
    "energy_dictionary.remove('')"
   ],
   "outputs": [],
   "metadata": {}
  },
  {
   "cell_type": "code",
   "execution_count": 15,
   "source": [
    "word_count = defaultdict(int)\n",
    "for word in energy_dictionary:\n",
    "    cnt = 0\n",
    "    for ticker in energy_tickers:\n",
    "        cnt += counters[ticker].get(word, 0)\n",
    "    word_count[word] += cnt\n",
    "    \n",
    "top_k_word = [k for k, v in sorted(word_count.items(), key=lambda item: item[1], reverse=True)][:5000]"
   ],
   "outputs": [],
   "metadata": {}
  },
  {
   "cell_type": "code",
   "execution_count": 17,
   "source": [
    "df_ind = pd.DataFrame(columns=[\"social_beta\", \"governance_beta\", \"environment_beta\"], index = top_k_word)\n"
   ],
   "outputs": [],
   "metadata": {}
  },
  {
   "cell_type": "code",
   "execution_count": 19,
   "source": [
    "for typ in [\"social\", \"governance\", \"environment\"]:\n",
    "    score = esg_energy[\"{}Score\".format(typ)]\n",
    "    slopes = []\n",
    "    for word in top_k_word:\n",
    "        inds = []\n",
    "        for ticker in energy_tickers:\n",
    "            if word in counters[ticker]:\n",
    "                inds.append(1)\n",
    "            else:\n",
    "                inds.append(0)\n",
    "        slope, intercept, *_ = linregress(inds, score)\n",
    "        slopes.append(slope)\n",
    "    df_ind[\"{}_beta\".format(typ)] = slopes"
   ],
   "outputs": [
    {
     "output_type": "stream",
     "name": "stderr",
     "text": [
      "/Users/luckywang/Documents/Document/Course Material/Fall 2021/esg_nlp/venv/lib/python3.9/site-packages/scipy/stats/_stats_mstats_common.py:170: RuntimeWarning: invalid value encountered in double_scalars\n",
      "  slope = ssxym / ssxm\n",
      "/Users/luckywang/Documents/Document/Course Material/Fall 2021/esg_nlp/venv/lib/python3.9/site-packages/scipy/stats/_stats_mstats_common.py:187: RuntimeWarning: divide by zero encountered in double_scalars\n",
      "  slope_stderr = np.sqrt((1 - r**2) * ssym / ssxm / df)\n"
     ]
    }
   ],
   "metadata": {}
  },
  {
   "cell_type": "code",
   "execution_count": 133,
   "source": [
    "df_ind = df_ind.sort_values(by=[\"social_beta\", \"governance_beta\", \"environment_beta\"], ascending=False)"
   ],
   "outputs": [],
   "metadata": {}
  },
  {
   "cell_type": "code",
   "execution_count": 136,
   "source": [
    "df_ind.head()"
   ],
   "outputs": [
    {
     "output_type": "execute_result",
     "data": {
      "text/html": [
       "<div>\n",
       "<style scoped>\n",
       "    .dataframe tbody tr th:only-of-type {\n",
       "        vertical-align: middle;\n",
       "    }\n",
       "\n",
       "    .dataframe tbody tr th {\n",
       "        vertical-align: top;\n",
       "    }\n",
       "\n",
       "    .dataframe thead th {\n",
       "        text-align: right;\n",
       "    }\n",
       "</style>\n",
       "<table border=\"1\" class=\"dataframe\">\n",
       "  <thead>\n",
       "    <tr style=\"text-align: right;\">\n",
       "      <th></th>\n",
       "      <th>social_beta</th>\n",
       "      <th>governance_beta</th>\n",
       "      <th>environment_beta</th>\n",
       "    </tr>\n",
       "  </thead>\n",
       "  <tbody>\n",
       "    <tr>\n",
       "      <th>cog</th>\n",
       "      <td>4.987368</td>\n",
       "      <td>2.422632</td>\n",
       "      <td>7.706842</td>\n",
       "    </tr>\n",
       "    <tr>\n",
       "      <th>dinge</th>\n",
       "      <td>4.987368</td>\n",
       "      <td>2.422632</td>\n",
       "      <td>7.706842</td>\n",
       "    </tr>\n",
       "    <tr>\n",
       "      <th>schroeder</th>\n",
       "      <td>4.987368</td>\n",
       "      <td>2.422632</td>\n",
       "      <td>7.706842</td>\n",
       "    </tr>\n",
       "    <tr>\n",
       "      <th>extraordinary</th>\n",
       "      <td>3.394510</td>\n",
       "      <td>1.610000</td>\n",
       "      <td>3.300196</td>\n",
       "    </tr>\n",
       "    <tr>\n",
       "      <th>insignificant</th>\n",
       "      <td>3.394510</td>\n",
       "      <td>1.610000</td>\n",
       "      <td>3.300196</td>\n",
       "    </tr>\n",
       "  </tbody>\n",
       "</table>\n",
       "</div>"
      ],
      "text/plain": [
       "               social_beta  governance_beta  environment_beta\n",
       "cog               4.987368         2.422632          7.706842\n",
       "dinge             4.987368         2.422632          7.706842\n",
       "schroeder         4.987368         2.422632          7.706842\n",
       "extraordinary     3.394510         1.610000          3.300196\n",
       "insignificant     3.394510         1.610000          3.300196"
      ]
     },
     "metadata": {},
     "execution_count": 136
    }
   ],
   "metadata": {}
  },
  {
   "cell_type": "code",
   "execution_count": null,
   "source": [
    "df_ind.to_csv(os.path.join(\"data\", \"reg_result_ind.csv\"))"
   ],
   "outputs": [],
   "metadata": {}
  },
  {
   "cell_type": "code",
   "execution_count": 22,
   "source": [
    "with open(\"dict_lemmatize.txt\", 'w') as f:\n",
    "    f.write('\\n'.join(list(energy_dictionary)))"
   ],
   "outputs": [],
   "metadata": {}
  },
  {
   "cell_type": "markdown",
   "source": [
    "# Regression of E, S, G score on tfidf score for each word in each doc"
   ],
   "metadata": {}
  },
  {
   "cell_type": "code",
   "execution_count": 32,
   "source": [
    "cv = CountVectorizer(max_df=0.8, stop_words=stop_words, max_features=10000)\n",
    "word_count_vector = cv.fit_transform(docs)"
   ],
   "outputs": [
    {
     "output_type": "stream",
     "name": "stderr",
     "text": [
      "/Users/luckywang/Documents/Document/Course Material/Fall 2021/esg_nlp/venv/lib/python3.9/site-packages/sklearn/feature_extraction/text.py:388: UserWarning: Your stop_words may be inconsistent with your preprocessing. Tokenizing the stop words generated tokens ['10'] not in stop_words.\n",
      "  warnings.warn('Your stop_words may be inconsistent with '\n"
     ]
    }
   ],
   "metadata": {}
  },
  {
   "cell_type": "code",
   "execution_count": 33,
   "source": [
    "tfidf_transformer = TfidfTransformer(smooth_idf=True, use_idf=True)\n",
    "tfidf_transformer.fit(word_count_vector)"
   ],
   "outputs": [
    {
     "output_type": "execute_result",
     "data": {
      "text/plain": [
       "TfidfTransformer()"
      ]
     },
     "metadata": {},
     "execution_count": 33
    }
   ],
   "metadata": {}
  },
  {
   "cell_type": "code",
   "execution_count": 43,
   "source": [
    "# top 10000 frequent words\n",
    "feature_names = cv.get_feature_names()"
   ],
   "outputs": [],
   "metadata": {}
  },
  {
   "cell_type": "code",
   "execution_count": 46,
   "source": [
    "print(\"Number of words: {}\".format(len(feature_names)))"
   ],
   "outputs": [
    {
     "output_type": "stream",
     "name": "stdout",
     "text": [
      "Number of words: 10000\n"
     ]
    }
   ],
   "metadata": {}
  },
  {
   "cell_type": "code",
   "execution_count": null,
   "source": [
    "for typ in [\"social\", \"governance\", \"environment\"]:\n",
    "    score = esg_energy[\"{}Score\".format(typ)]\n",
    "    slopes = []\n",
    "    for word in top_k_word:\n",
    "        inds = []\n",
    "        for ticker in energy_tickers:\n",
    "            if word in counters[ticker]:\n",
    "                inds.append(1)\n",
    "            else:\n",
    "                inds.append(0)\n",
    "        slope, intercept, *_ = linregress(inds, score)\n",
    "        slopes.append(slope)\n",
    "    df_ind[\"{}_beta\".format(typ)] = slopes"
   ],
   "outputs": [],
   "metadata": {}
  },
  {
   "cell_type": "code",
   "execution_count": 109,
   "source": [
    "df_doc_word = pd.DataFrame(columns=feature_names, index=energy_tickers)\n",
    "\n",
    "for i, ticker in tqdm(enumerate(energy_tickers)):\n",
    "    tf_idf_vector = tfidf_transformer.transform(cv.transform([docs[i]]))\n",
    "    \n",
    "    coo_matrix = tf_idf_vector.tocoo()\n",
    "    # coo_matrix: A sparse matrix in which coo_matrix.col stores word_idx, coo_matrix.data stores tfidf score\n",
    "    \n",
    "    tuples = zip(coo_matrix.col, coo_matrix.data)\n",
    "    for word_idx, tfidf in tuples:\n",
    "        df_doc_word.at[ticker, feature_names[word_idx]] = tfidf"
   ],
   "outputs": [
    {
     "output_type": "stream",
     "name": "stderr",
     "text": [
      "20it [00:18,  1.11it/s]\n"
     ]
    }
   ],
   "metadata": {}
  },
  {
   "cell_type": "code",
   "execution_count": 117,
   "source": [
    "df_doc_word = df_doc_word.fillna(0)"
   ],
   "outputs": [],
   "metadata": {}
  },
  {
   "cell_type": "code",
   "execution_count": 76,
   "source": [
    "df_tfidf = pd.DataFrame(columns=[\"social_beta\", \"governance_beta\", \"environment_beta\"], index=feature_names)\n"
   ],
   "outputs": [],
   "metadata": {}
  },
  {
   "cell_type": "code",
   "execution_count": 118,
   "source": [
    "for typ in [\"social\", \"governance\", \"environment\"]:\n",
    "    score = esg_energy[\"{}Score\".format(typ)]\n",
    "    slopes = []\n",
    "    for word in feature_names:\n",
    "        tfidfs = df_doc_word[word].values.astype(float)\n",
    "        # print(tfidfs, score)\n",
    "        slope, intercept, *_ = linregress(tfidfs, score)\n",
    "        slopes.append(slope)\n",
    "    df_tfidf[\"{}_beta\".format(typ)] = slopes"
   ],
   "outputs": [],
   "metadata": {}
  },
  {
   "cell_type": "markdown",
   "source": [
    "Use just the top 5000 words, same as the 5000 words in indicator mode"
   ],
   "metadata": {}
  },
  {
   "cell_type": "code",
   "execution_count": 123,
   "source": [
    "word_to_drop = list(set(feature_names) - set(top_k_word))"
   ],
   "outputs": [],
   "metadata": {}
  },
  {
   "cell_type": "code",
   "execution_count": 131,
   "source": [
    "df_tfidf = df_tfidf.sort_values(by=[\"social_beta\", \"governance_beta\", \"environment_beta\"], ascending=False)"
   ],
   "outputs": [],
   "metadata": {}
  },
  {
   "cell_type": "code",
   "execution_count": 132,
   "source": [
    "df_tfidf.drop(word_to_drop).to_csv(os.path.join(\"data\", \"reg_result_tfidf.csv\"))"
   ],
   "outputs": [],
   "metadata": {}
  },
  {
   "cell_type": "markdown",
   "source": [
    "## Appendix"
   ],
   "metadata": {}
  },
  {
   "cell_type": "code",
   "execution_count": 91,
   "source": [
    "import shutil"
   ],
   "outputs": [],
   "metadata": {}
  },
  {
   "cell_type": "code",
   "execution_count": null,
   "source": [
    "for cik in energy_cik[1:]:\n",
    "    pkl_path = os.path.join(\"data\", \"10k\", cik, \"pickle\")\n",
    "    shutil.rmtree(pkl_path)\n",
    "    pkl_path = os.path.join(\"data\", \"10q\", cik, \"pickle\")\n",
    "    shutil.rmtree(pkl_path)"
   ],
   "outputs": [],
   "metadata": {}
  },
  {
   "cell_type": "code",
   "execution_count": null,
   "source": [],
   "outputs": [],
   "metadata": {}
  }
 ],
 "metadata": {
  "kernelspec": {
   "name": "python3",
   "display_name": "Python 3.9.4 64-bit ('venv': venv)"
  },
  "language_info": {
   "codemirror_mode": {
    "name": "ipython",
    "version": 3
   },
   "file_extension": ".py",
   "mimetype": "text/x-python",
   "name": "python",
   "nbconvert_exporter": "python",
   "pygments_lexer": "ipython3",
   "version": "3.9.4"
  },
  "interpreter": {
   "hash": "b893d7568335c74a8df3e912797c1bbf5cf11a7925c935f70126c10891afeb03"
  }
 },
 "nbformat": 4,
 "nbformat_minor": 5
}