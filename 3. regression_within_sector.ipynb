{
 "cells": [
  {
   "cell_type": "code",
   "execution_count": 48,
   "metadata": {},
   "outputs": [],
   "source": [
    "import numpy as np\n",
    "import pandas as pd\n",
    "\n",
    "from time import gmtime, strftime\n",
    "import time\n",
    "import os\n",
    "from tqdm import tqdm\n",
    "import pickle\n",
    "from scipy.stats import linregress\n",
    "from collections import defaultdict\n",
    "from sklearn.feature_extraction.text import TfidfTransformer, CountVectorizer\n",
    "\n",
    "from utils.crawler import Scrape10K, Scrape10Q, ConvertHTML\n",
    "from utils.preprocessing import get_texts, stop_words"
   ]
  },
  {
   "cell_type": "code",
   "execution_count": 52,
   "metadata": {},
   "outputs": [],
   "source": [
    "def get_cik(ticker):\n",
    "    \"\"\" Get the cik for the ticker specified by the input argument \n",
    "    Input:\n",
    "        ticker(str): ticker of the company e.g. \"FB\"\n",
    "    \"\"\"\n",
    "    return ticker_library[ticker_library.ticker == ticker].secfilings.values[0][-10:]\n",
    "\n",
    "def get_ciks(tickers):\n",
    "    ciks = []\n",
    "\n",
    "    for ticker in tickers:\n",
    "        ciks.append(get_cik(ticker))\n",
    "\n",
    "    return ciks"
   ]
  },
  {
   "cell_type": "code",
   "execution_count": 5,
   "metadata": {},
   "outputs": [],
   "source": [
    "sector = \"Energy\"\n",
    "# sector = \"Energy\"\n",
    "\n",
    "# score_type = \"governanceScore\"\n",
    "score_type = \"environmentScore\""
   ]
  },
  {
   "cell_type": "code",
   "execution_count": 6,
   "metadata": {},
   "outputs": [],
   "source": [
    "df_esg_score = pd.read_excel(\"data/esg_score.xlsx\", sheet_name = \"data\")"
   ]
  },
  {
   "cell_type": "code",
   "execution_count": 7,
   "metadata": {},
   "outputs": [],
   "source": [
    "tickers = df_esg_score[df_esg_score[\"sector\"] == sector][\"Company\"]"
   ]
  },
  {
   "cell_type": "code",
   "execution_count": 10,
   "metadata": {},
   "outputs": [],
   "source": [
    "esgs = df_esg_score[df_esg_score[\"sector\"] == sector][[\"Company\", \"socialScore\", \"governanceScore\", \"environmentScore\"]]"
   ]
  },
  {
   "cell_type": "code",
   "execution_count": 11,
   "metadata": {},
   "outputs": [
    {
     "data": {
      "text/html": [
       "<div>\n",
       "<style scoped>\n",
       "    .dataframe tbody tr th:only-of-type {\n",
       "        vertical-align: middle;\n",
       "    }\n",
       "\n",
       "    .dataframe tbody tr th {\n",
       "        vertical-align: top;\n",
       "    }\n",
       "\n",
       "    .dataframe thead th {\n",
       "        text-align: right;\n",
       "    }\n",
       "</style>\n",
       "<table border=\"1\" class=\"dataframe\">\n",
       "  <thead>\n",
       "    <tr style=\"text-align: right;\">\n",
       "      <th></th>\n",
       "      <th>Company</th>\n",
       "      <th>socialScore</th>\n",
       "      <th>governanceScore</th>\n",
       "      <th>environmentScore</th>\n",
       "    </tr>\n",
       "  </thead>\n",
       "  <tbody>\n",
       "    <tr>\n",
       "      <th>1</th>\n",
       "      <td>COG</td>\n",
       "      <td>14.01</td>\n",
       "      <td>9.28</td>\n",
       "      <td>23.39</td>\n",
       "    </tr>\n",
       "    <tr>\n",
       "      <th>3</th>\n",
       "      <td>MRO</td>\n",
       "      <td>10.27</td>\n",
       "      <td>8.70</td>\n",
       "      <td>23.76</td>\n",
       "    </tr>\n",
       "    <tr>\n",
       "      <th>4</th>\n",
       "      <td>CVX</td>\n",
       "      <td>10.67</td>\n",
       "      <td>10.21</td>\n",
       "      <td>20.29</td>\n",
       "    </tr>\n",
       "    <tr>\n",
       "      <th>7</th>\n",
       "      <td>EOG</td>\n",
       "      <td>11.06</td>\n",
       "      <td>8.24</td>\n",
       "      <td>19.67</td>\n",
       "    </tr>\n",
       "    <tr>\n",
       "      <th>8</th>\n",
       "      <td>APA</td>\n",
       "      <td>8.88</td>\n",
       "      <td>7.96</td>\n",
       "      <td>21.98</td>\n",
       "    </tr>\n",
       "  </tbody>\n",
       "</table>\n",
       "</div>"
      ],
      "text/plain": [
       "  Company  socialScore  governanceScore  environmentScore\n",
       "1     COG        14.01             9.28             23.39\n",
       "3     MRO        10.27             8.70             23.76\n",
       "4     CVX        10.67            10.21             20.29\n",
       "7     EOG        11.06             8.24             19.67\n",
       "8     APA         8.88             7.96             21.98"
      ]
     },
     "execution_count": 11,
     "metadata": {},
     "output_type": "execute_result"
    }
   ],
   "source": [
    "esgs.head()"
   ]
  },
  {
   "cell_type": "code",
   "execution_count": 12,
   "metadata": {},
   "outputs": [
    {
     "name": "stdout",
     "output_type": "stream",
     "text": [
      "Number of companies in Energy sector: 20\n"
     ]
    }
   ],
   "source": [
    "print(\"Number of companies in Energy sector: {}\".format(len(tickers)))"
   ]
  },
  {
   "cell_type": "code",
   "execution_count": 13,
   "metadata": {},
   "outputs": [
    {
     "name": "stderr",
     "output_type": "stream",
     "text": [
      "/Users/luckywang/Documents/Document/Course Material/Fall 2021/esg_nlp/venv/lib/python3.9/site-packages/IPython/core/interactiveshell.py:3441: DtypeWarning: Columns (15,16) have mixed types.Specify dtype option on import or set low_memory=False.\n",
      "  exec(code_obj, self.user_global_ns, self.user_ns)\n"
     ]
    }
   ],
   "source": [
    "ticker_library = pd.read_csv(os.path.join(\"data\", \"tickers.csv\"))"
   ]
  },
  {
   "cell_type": "code",
   "execution_count": 14,
   "metadata": {},
   "outputs": [],
   "source": [
    "ciks = []\n",
    "for ticker in tickers:    \n",
    "    try:\n",
    "        # for a given ticker, find its cik number through th ticker library\n",
    "        ciks.append(ticker_library[ticker_library.ticker == ticker].secfilings.values[0][-10:])\n",
    "    except:\n",
    "        # if could not find cik, give it a empty cik\n",
    "        ciks.append('')"
   ]
  },
  {
   "cell_type": "markdown",
   "metadata": {},
   "source": [
    "# Analysis based on Energy sector"
   ]
  },
  {
   "cell_type": "markdown",
   "metadata": {},
   "source": [
    "## Scrape Energy sector"
   ]
  },
  {
   "cell_type": "code",
   "execution_count": 8,
   "metadata": {},
   "outputs": [
    {
     "name": "stderr",
     "output_type": "stream",
     "text": [
      "  0%|          | 0/20 [00:00<?, ?it/s]"
     ]
    },
    {
     "name": "stdout",
     "output_type": "stream",
     "text": [
      "Already scraped CIK 0000858470\n"
     ]
    },
    {
     "name": "stderr",
     "output_type": "stream",
     "text": [
      "  5%|▌         | 1/20 [00:10<03:10, 10.00s/it]"
     ]
    },
    {
     "name": "stdout",
     "output_type": "stream",
     "text": [
      "Already scraped CIK 0000858470\n",
      "Already scraped CIK 0000101778\n"
     ]
    },
    {
     "name": "stderr",
     "output_type": "stream",
     "text": [
      "  5%|▌         | 1/20 [00:19<06:07, 19.35s/it]\n"
     ]
    },
    {
     "ename": "KeyboardInterrupt",
     "evalue": "",
     "output_type": "error",
     "traceback": [
      "\u001b[0;31m---------------------------------------------------------------------------\u001b[0m",
      "\u001b[0;31mKeyboardInterrupt\u001b[0m                         Traceback (most recent call last)",
      "\u001b[0;32m/var/folders/cx/74c09p4917dbnxyclq4tvqkc0000gn/T/ipykernel_61714/2160192846.py\u001b[0m in \u001b[0;36m<module>\u001b[0;34m\u001b[0m\n\u001b[1;32m     23\u001b[0m           log_file_name=log_file_path)\n\u001b[1;32m     24\u001b[0m \u001b[0;34m\u001b[0m\u001b[0m\n\u001b[0;32m---> 25\u001b[0;31m     \u001b[0mtime\u001b[0m\u001b[0;34m.\u001b[0m\u001b[0msleep\u001b[0m\u001b[0;34m(\u001b[0m\u001b[0;36m5\u001b[0m\u001b[0;34m)\u001b[0m\u001b[0;34m\u001b[0m\u001b[0;34m\u001b[0m\u001b[0m\n\u001b[0m\u001b[1;32m     26\u001b[0m     Scrape10Q(browse_url_base = browse_url_base_10q, \n\u001b[1;32m     27\u001b[0m           \u001b[0mfiling_url_base\u001b[0m \u001b[0;34m=\u001b[0m \u001b[0mfiling_url_base\u001b[0m\u001b[0;34m,\u001b[0m\u001b[0;34m\u001b[0m\u001b[0;34m\u001b[0m\u001b[0m\n",
      "\u001b[0;31mKeyboardInterrupt\u001b[0m: "
     ]
    }
   ],
   "source": [
    "browse_url_base_10k = 'https://www.sec.gov/cgi-bin/browse-edgar?action=getcompany&CIK=%s&type=10-K'\n",
    "filing_url_base = 'http://www.sec.gov/Archives/edgar/data/%s/%s-index.html'\n",
    "doc_url_base = 'http://www.sec.gov/Archives/edgar/data/%s/%s/%s'\n",
    "\n",
    "browse_url_base_10q = 'https://www.sec.gov/cgi-bin/browse-edgar?action=getcompany&CIK=%s&type=10-Q&count=1000'\n",
    "\n",
    "# Initialize log file\n",
    "# (log file name = the time we initiate scraping session)\n",
    "t = strftime(\"%Y_%m_%d_%H_%M_%S\", gmtime())\n",
    "log_file_name = t + \".txt\"\n",
    "log_file_path = os.path.join(\"log\", log_file_name)\n",
    "\n",
    "with open(log_file_path, 'a') as log_file:\n",
    "    log_file.close()\n",
    "\n",
    "# Iterate over CIKs and scrape 10-Ks\n",
    "for cik in tqdm(ciks):\n",
    "    time.sleep(5)\n",
    "    Scrape10K(browse_url_base=browse_url_base_10k, \n",
    "          filing_url_base=filing_url_base, \n",
    "          doc_url_base=doc_url_base, \n",
    "          cik=cik,\n",
    "          log_file_name=log_file_path)\n",
    "\n",
    "    time.sleep(5)\n",
    "    Scrape10Q(browse_url_base = browse_url_base_10q, \n",
    "          filing_url_base = filing_url_base, \n",
    "          doc_url_base = doc_url_base, \n",
    "          cik = cik,\n",
    "          log_file_name = log_file_path)\n",
    "    \n",
    "\n",
    "#return to the main menu"
   ]
  },
  {
   "cell_type": "markdown",
   "metadata": {},
   "source": [
    "## Transform from HTML to txt"
   ]
  },
  {
   "cell_type": "code",
   "execution_count": 9,
   "metadata": {},
   "outputs": [
    {
     "name": "stderr",
     "output_type": "stream",
     "text": [
      "100%|██████████| 20/20 [12:47<00:00, 38.39s/it]\n",
      "100%|██████████| 20/20 [13:43<00:00, 41.16s/it]\n"
     ]
    }
   ],
   "source": [
    "# For 10-Ks...\n",
    "# -*- coding: utf-8 -*-\n",
    "dir_10k = os.path.join(\"data\", \"10k\")\n",
    "dir_10q = os.path.join(\"data\", \"10q\")\n",
    "\n",
    "# Iterate over CIKs and clean HTML filings\n",
    "for cik in tqdm(energy_cik):\n",
    "    ConvertHTML(cik, dir_10k)\n",
    "\n",
    "# For 10-Qs...\n",
    "\n",
    "# Iterate over CIKs and clean HTML filings\n",
    "for cik in tqdm(energy_cik):\n",
    "    ConvertHTML(cik, dir_10q)"
   ]
  },
  {
   "cell_type": "markdown",
   "metadata": {},
   "source": [
    "## Get the preprocessed texts"
   ]
  },
  {
   "cell_type": "code",
   "execution_count": 16,
   "metadata": {},
   "outputs": [
    {
     "name": "stderr",
     "output_type": "stream",
     "text": [
      "20it [00:08,  2.36it/s]\n"
     ]
    }
   ],
   "source": [
    "ret = get_texts(ciks, tickers)\n",
    "docs = ret[\"docs\"]"
   ]
  },
  {
   "cell_type": "markdown",
   "metadata": {},
   "source": [
    "# Regression of E, S, G score on indicator function(occurence of word_i)"
   ]
  },
  {
   "cell_type": "markdown",
   "metadata": {},
   "source": [
    "Company - word table: 1 if word occurs in a certain doc, else 0"
   ]
  },
  {
   "cell_type": "code",
   "execution_count": 11,
   "metadata": {},
   "outputs": [],
   "source": [
    "energy_dictionary = list()\n",
    "for ticker in energy_tickers.values:\n",
    "    energy_dictionary.extend(counters[ticker].keys())"
   ]
  },
  {
   "cell_type": "code",
   "execution_count": 12,
   "metadata": {},
   "outputs": [
    {
     "name": "stdout",
     "output_type": "stream",
     "text": [
      "Number of distinct words: 35938\n"
     ]
    }
   ],
   "source": [
    "energy_dictionary = set(energy_dictionary)\n",
    "print(\"Number of distinct words: {}\".format(len(energy_dictionary)))"
   ]
  },
  {
   "cell_type": "code",
   "execution_count": 14,
   "metadata": {},
   "outputs": [],
   "source": [
    "energy_dictionary.remove('')"
   ]
  },
  {
   "cell_type": "code",
   "execution_count": 15,
   "metadata": {},
   "outputs": [],
   "source": [
    "word_count = defaultdict(int)\n",
    "for word in energy_dictionary:\n",
    "    cnt = 0\n",
    "    for ticker in energy_tickers:\n",
    "        cnt += counters[ticker].get(word, 0)\n",
    "    word_count[word] += cnt\n",
    "    \n",
    "top_k_word = [k for k, v in sorted(word_count.items(), key=lambda item: item[1], reverse=True)][:5000]"
   ]
  },
  {
   "cell_type": "code",
   "execution_count": 17,
   "metadata": {},
   "outputs": [],
   "source": [
    "df_ind = pd.DataFrame(columns=[\"social_beta\", \"governance_beta\", \"environment_beta\"], index = top_k_word)\n"
   ]
  },
  {
   "cell_type": "code",
   "execution_count": 19,
   "metadata": {},
   "outputs": [
    {
     "name": "stderr",
     "output_type": "stream",
     "text": [
      "/Users/luckywang/Documents/Document/Course Material/Fall 2021/esg_nlp/venv/lib/python3.9/site-packages/scipy/stats/_stats_mstats_common.py:170: RuntimeWarning: invalid value encountered in double_scalars\n",
      "  slope = ssxym / ssxm\n",
      "/Users/luckywang/Documents/Document/Course Material/Fall 2021/esg_nlp/venv/lib/python3.9/site-packages/scipy/stats/_stats_mstats_common.py:187: RuntimeWarning: divide by zero encountered in double_scalars\n",
      "  slope_stderr = np.sqrt((1 - r**2) * ssym / ssxm / df)\n"
     ]
    }
   ],
   "source": [
    "for typ in [\"social\", \"governance\", \"environment\"]:\n",
    "    score = esg_energy[\"{}Score\".format(typ)]\n",
    "    slopes = []\n",
    "    for word in top_k_word:\n",
    "        inds = []\n",
    "        for ticker in energy_tickers:\n",
    "            if word in counters[ticker]:\n",
    "                inds.append(1)\n",
    "            else:\n",
    "                inds.append(0)\n",
    "        slope, intercept, *_ = linregress(inds, score)\n",
    "        slopes.append(slope)\n",
    "    df_ind[\"{}_beta\".format(typ)] = slopes"
   ]
  },
  {
   "cell_type": "code",
   "execution_count": 133,
   "metadata": {},
   "outputs": [],
   "source": [
    "df_ind = df_ind.sort_values(by=[\"social_beta\", \"governance_beta\", \"environment_beta\"], ascending=False)"
   ]
  },
  {
   "cell_type": "code",
   "execution_count": 136,
   "metadata": {},
   "outputs": [
    {
     "data": {
      "text/html": [
       "<div>\n",
       "<style scoped>\n",
       "    .dataframe tbody tr th:only-of-type {\n",
       "        vertical-align: middle;\n",
       "    }\n",
       "\n",
       "    .dataframe tbody tr th {\n",
       "        vertical-align: top;\n",
       "    }\n",
       "\n",
       "    .dataframe thead th {\n",
       "        text-align: right;\n",
       "    }\n",
       "</style>\n",
       "<table border=\"1\" class=\"dataframe\">\n",
       "  <thead>\n",
       "    <tr style=\"text-align: right;\">\n",
       "      <th></th>\n",
       "      <th>social_beta</th>\n",
       "      <th>governance_beta</th>\n",
       "      <th>environment_beta</th>\n",
       "    </tr>\n",
       "  </thead>\n",
       "  <tbody>\n",
       "    <tr>\n",
       "      <th>cog</th>\n",
       "      <td>4.987368</td>\n",
       "      <td>2.422632</td>\n",
       "      <td>7.706842</td>\n",
       "    </tr>\n",
       "    <tr>\n",
       "      <th>dinge</th>\n",
       "      <td>4.987368</td>\n",
       "      <td>2.422632</td>\n",
       "      <td>7.706842</td>\n",
       "    </tr>\n",
       "    <tr>\n",
       "      <th>schroeder</th>\n",
       "      <td>4.987368</td>\n",
       "      <td>2.422632</td>\n",
       "      <td>7.706842</td>\n",
       "    </tr>\n",
       "    <tr>\n",
       "      <th>extraordinary</th>\n",
       "      <td>3.394510</td>\n",
       "      <td>1.610000</td>\n",
       "      <td>3.300196</td>\n",
       "    </tr>\n",
       "    <tr>\n",
       "      <th>insignificant</th>\n",
       "      <td>3.394510</td>\n",
       "      <td>1.610000</td>\n",
       "      <td>3.300196</td>\n",
       "    </tr>\n",
       "  </tbody>\n",
       "</table>\n",
       "</div>"
      ],
      "text/plain": [
       "               social_beta  governance_beta  environment_beta\n",
       "cog               4.987368         2.422632          7.706842\n",
       "dinge             4.987368         2.422632          7.706842\n",
       "schroeder         4.987368         2.422632          7.706842\n",
       "extraordinary     3.394510         1.610000          3.300196\n",
       "insignificant     3.394510         1.610000          3.300196"
      ]
     },
     "execution_count": 136,
     "metadata": {},
     "output_type": "execute_result"
    }
   ],
   "source": [
    "df_ind.head()"
   ]
  },
  {
   "cell_type": "code",
   "execution_count": null,
   "metadata": {},
   "outputs": [],
   "source": [
    "df_ind.to_csv(os.path.join(\"data\", \"reg_result_ind.csv\"))"
   ]
  },
  {
   "cell_type": "code",
   "execution_count": 22,
   "metadata": {},
   "outputs": [],
   "source": [
    "with open(\"dict_lemmatize.txt\", 'w') as f:\n",
    "    f.write('\\n'.join(list(energy_dictionary)))"
   ]
  },
  {
   "cell_type": "markdown",
   "metadata": {},
   "source": [
    "# Regression of E, S, G score on tfidf score for each word in each doc"
   ]
  },
  {
   "cell_type": "code",
   "execution_count": 28,
   "metadata": {},
   "outputs": [
    {
     "name": "stderr",
     "output_type": "stream",
     "text": [
      "/Users/luckywang/Documents/Document/Course Material/Fall 2021/esg_nlp/venv/lib/python3.9/site-packages/sklearn/feature_extraction/text.py:388: UserWarning: Your stop_words may be inconsistent with your preprocessing. Tokenizing the stop words generated tokens ['10'] not in stop_words.\n",
      "  warnings.warn('Your stop_words may be inconsistent with '\n"
     ]
    }
   ],
   "source": [
    "cv = CountVectorizer(max_df=0.8, stop_words=stop_words, max_features=1000)\n",
    "word_count_vector = cv.fit_transform(docs)"
   ]
  },
  {
   "cell_type": "code",
   "execution_count": 29,
   "metadata": {},
   "outputs": [
    {
     "data": {
      "text/plain": [
       "TfidfTransformer()"
      ]
     },
     "execution_count": 29,
     "metadata": {},
     "output_type": "execute_result"
    }
   ],
   "source": [
    "tfidf_transformer = TfidfTransformer(smooth_idf=True, use_idf=True)\n",
    "tfidf_transformer.fit(word_count_vector)"
   ]
  },
  {
   "cell_type": "code",
   "execution_count": 30,
   "metadata": {},
   "outputs": [],
   "source": [
    "# top 10000 frequent words\n",
    "feature_names = cv.get_feature_names()"
   ]
  },
  {
   "cell_type": "code",
   "execution_count": 31,
   "metadata": {},
   "outputs": [
    {
     "name": "stdout",
     "output_type": "stream",
     "text": [
      "Number of words: 1000\n"
     ]
    }
   ],
   "source": [
    "print(\"Number of words: {}\".format(len(feature_names)))"
   ]
  },
  {
   "cell_type": "code",
   "execution_count": 32,
   "metadata": {},
   "outputs": [
    {
     "name": "stderr",
     "output_type": "stream",
     "text": [
      "20it [00:20,  1.00s/it]\n"
     ]
    }
   ],
   "source": [
    "df_doc_word = pd.DataFrame(columns=feature_names, index=tickers)\n",
    "\n",
    "for i, ticker in tqdm(enumerate(tickers)):\n",
    "    tf_idf_vector = tfidf_transformer.transform(cv.transform([docs[i]]))\n",
    "    \n",
    "    coo_matrix = tf_idf_vector.tocoo()\n",
    "    # coo_matrix: A sparse matrix in which coo_matrix.col stores word_idx, coo_matrix.data stores tfidf score\n",
    "    \n",
    "    tuples = zip(coo_matrix.col, coo_matrix.data)\n",
    "    for word_idx, tfidf in tuples:\n",
    "        df_doc_word.at[ticker, feature_names[word_idx]] = tfidf"
   ]
  },
  {
   "cell_type": "code",
   "execution_count": 33,
   "metadata": {},
   "outputs": [],
   "source": [
    "df_doc_word = df_doc_word.fillna(0)"
   ]
  },
  {
   "cell_type": "code",
   "execution_count": 37,
   "metadata": {},
   "outputs": [],
   "source": [
    "df_tfidf = pd.DataFrame(columns=[\"social_beta\", \"governance_beta\", \"environment_beta\"], index=feature_names)"
   ]
  },
  {
   "cell_type": "code",
   "execution_count": 44,
   "metadata": {},
   "outputs": [],
   "source": [
    "for typ in [\"social\", \"governance\", \"environment\"]:\n",
    "    score = esgs[\"{}Score\".format(typ)]\n",
    "    slopes = []\n",
    "    for word in feature_names:\n",
    "        tfidfs = df_doc_word[word].values.astype(float)\n",
    "        slope, intercept, *_ = linregress(tfidfs, score)\n",
    "        slopes.append(slope)\n",
    "    df_tfidf[\"{}_beta\".format(typ)] = slopes"
   ]
  },
  {
   "cell_type": "code",
   "execution_count": 49,
   "metadata": {},
   "outputs": [],
   "source": [
    "cols = df_tfidf.columns\n",
    "alpha = 0.3\n",
    "\n",
    "for col in cols: \n",
    "    betas = df_tfidf[col]\n",
    "    score_type = col.split('_')[0]\n",
    "    \n",
    "    upper_score = np.quantile(betas, 1 - alpha)\n",
    "    lower_score = np.quantile(betas, alpha)\n",
    "    is_good = np.where(betas < lower_score, 1, 0) + np.where(betas > upper_score, -1, 0)\n",
    "    \n",
    "    df_tfidf[\"{}_isGood\".format(score_type)] = is_good"
   ]
  },
  {
   "cell_type": "code",
   "execution_count": 50,
   "metadata": {},
   "outputs": [
    {
     "data": {
      "text/html": [
       "<div>\n",
       "<style scoped>\n",
       "    .dataframe tbody tr th:only-of-type {\n",
       "        vertical-align: middle;\n",
       "    }\n",
       "\n",
       "    .dataframe tbody tr th {\n",
       "        vertical-align: top;\n",
       "    }\n",
       "\n",
       "    .dataframe thead th {\n",
       "        text-align: right;\n",
       "    }\n",
       "</style>\n",
       "<table border=\"1\" class=\"dataframe\">\n",
       "  <thead>\n",
       "    <tr style=\"text-align: right;\">\n",
       "      <th></th>\n",
       "      <th>social_beta</th>\n",
       "      <th>governance_beta</th>\n",
       "      <th>environment_beta</th>\n",
       "      <th>social_isGood</th>\n",
       "      <th>governance_isGood</th>\n",
       "      <th>environment_isGood</th>\n",
       "    </tr>\n",
       "  </thead>\n",
       "  <tbody>\n",
       "    <tr>\n",
       "      <th>accrues</th>\n",
       "      <td>172.623327</td>\n",
       "      <td>140.958635</td>\n",
       "      <td>11.321078</td>\n",
       "      <td>-1</td>\n",
       "      <td>-1</td>\n",
       "      <td>0</td>\n",
       "    </tr>\n",
       "    <tr>\n",
       "      <th>accurate</th>\n",
       "      <td>192.255982</td>\n",
       "      <td>192.965112</td>\n",
       "      <td>966.213646</td>\n",
       "      <td>-1</td>\n",
       "      <td>-1</td>\n",
       "      <td>-1</td>\n",
       "    </tr>\n",
       "    <tr>\n",
       "      <th>acmp</th>\n",
       "      <td>-5.850305</td>\n",
       "      <td>-29.395448</td>\n",
       "      <td>-55.146124</td>\n",
       "      <td>0</td>\n",
       "      <td>1</td>\n",
       "      <td>0</td>\n",
       "    </tr>\n",
       "    <tr>\n",
       "      <th>acre</th>\n",
       "      <td>20.183284</td>\n",
       "      <td>40.249319</td>\n",
       "      <td>61.245858</td>\n",
       "      <td>0</td>\n",
       "      <td>0</td>\n",
       "      <td>0</td>\n",
       "    </tr>\n",
       "    <tr>\n",
       "      <th>ad</th>\n",
       "      <td>22.084285</td>\n",
       "      <td>54.240683</td>\n",
       "      <td>58.230568</td>\n",
       "      <td>0</td>\n",
       "      <td>-1</td>\n",
       "      <td>0</td>\n",
       "    </tr>\n",
       "    <tr>\n",
       "      <th>...</th>\n",
       "      <td>...</td>\n",
       "      <td>...</td>\n",
       "      <td>...</td>\n",
       "      <td>...</td>\n",
       "      <td>...</td>\n",
       "      <td>...</td>\n",
       "    </tr>\n",
       "    <tr>\n",
       "      <th>wrb</th>\n",
       "      <td>-5.450129</td>\n",
       "      <td>-6.907001</td>\n",
       "      <td>17.743960</td>\n",
       "      <td>0</td>\n",
       "      <td>0</td>\n",
       "      <td>0</td>\n",
       "    </tr>\n",
       "    <tr>\n",
       "      <th>xom</th>\n",
       "      <td>4.959642</td>\n",
       "      <td>4.898837</td>\n",
       "      <td>3.334635</td>\n",
       "      <td>0</td>\n",
       "      <td>0</td>\n",
       "      <td>0</td>\n",
       "    </tr>\n",
       "    <tr>\n",
       "      <th>xto</th>\n",
       "      <td>17.963178</td>\n",
       "      <td>16.899726</td>\n",
       "      <td>15.852558</td>\n",
       "      <td>0</td>\n",
       "      <td>0</td>\n",
       "      <td>0</td>\n",
       "    </tr>\n",
       "    <tr>\n",
       "      <th>yemen</th>\n",
       "      <td>121.401300</td>\n",
       "      <td>41.949405</td>\n",
       "      <td>164.956601</td>\n",
       "      <td>-1</td>\n",
       "      <td>0</td>\n",
       "      <td>-1</td>\n",
       "    </tr>\n",
       "    <tr>\n",
       "      <th>young</th>\n",
       "      <td>-83.181685</td>\n",
       "      <td>34.448716</td>\n",
       "      <td>20.893418</td>\n",
       "      <td>1</td>\n",
       "      <td>0</td>\n",
       "      <td>0</td>\n",
       "    </tr>\n",
       "  </tbody>\n",
       "</table>\n",
       "<p>1000 rows × 6 columns</p>\n",
       "</div>"
      ],
      "text/plain": [
       "          social_beta  governance_beta  environment_beta  social_isGood  \\\n",
       "accrues    172.623327       140.958635         11.321078             -1   \n",
       "accurate   192.255982       192.965112        966.213646             -1   \n",
       "acmp        -5.850305       -29.395448        -55.146124              0   \n",
       "acre        20.183284        40.249319         61.245858              0   \n",
       "ad          22.084285        54.240683         58.230568              0   \n",
       "...               ...              ...               ...            ...   \n",
       "wrb         -5.450129        -6.907001         17.743960              0   \n",
       "xom          4.959642         4.898837          3.334635              0   \n",
       "xto         17.963178        16.899726         15.852558              0   \n",
       "yemen      121.401300        41.949405        164.956601             -1   \n",
       "young      -83.181685        34.448716         20.893418              1   \n",
       "\n",
       "          governance_isGood  environment_isGood  \n",
       "accrues                  -1                   0  \n",
       "accurate                 -1                  -1  \n",
       "acmp                      1                   0  \n",
       "acre                      0                   0  \n",
       "ad                       -1                   0  \n",
       "...                     ...                 ...  \n",
       "wrb                       0                   0  \n",
       "xom                       0                   0  \n",
       "xto                       0                   0  \n",
       "yemen                     0                  -1  \n",
       "young                     0                   0  \n",
       "\n",
       "[1000 rows x 6 columns]"
      ]
     },
     "execution_count": 50,
     "metadata": {},
     "output_type": "execute_result"
    }
   ],
   "source": [
    "df_tfidf"
   ]
  },
  {
   "cell_type": "markdown",
   "metadata": {},
   "source": [
    "Use just the top 5000 words, same as the 5000 words in indicator mode"
   ]
  },
  {
   "cell_type": "code",
   "execution_count": 123,
   "metadata": {},
   "outputs": [],
   "source": [
    "# word_to_drop = list(set(feature_names) - set(top_k_word))"
   ]
  },
  {
   "cell_type": "code",
   "execution_count": 131,
   "metadata": {},
   "outputs": [],
   "source": [
    "df_tfidf = df_tfidf.sort_values(by=[\"social_beta\", \"governance_beta\", \"environment_beta\"], ascending=False)"
   ]
  },
  {
   "cell_type": "code",
   "execution_count": 132,
   "metadata": {},
   "outputs": [],
   "source": [
    "df_tfidf.drop(word_to_drop).to_csv(os.path.join(\"data\", \"reg_result_tfidf.csv\"))"
   ]
  },
  {
   "cell_type": "code",
   "execution_count": 8,
   "metadata": {},
   "outputs": [],
   "source": [
    "df_tfidf = pd.read_csv(\"data/reg_result_tfidf.csv\", index_col=0)"
   ]
  },
  {
   "cell_type": "code",
   "execution_count": 10,
   "metadata": {},
   "outputs": [
    {
     "data": {
      "text/html": [
       "<div>\n",
       "<style scoped>\n",
       "    .dataframe tbody tr th:only-of-type {\n",
       "        vertical-align: middle;\n",
       "    }\n",
       "\n",
       "    .dataframe tbody tr th {\n",
       "        vertical-align: top;\n",
       "    }\n",
       "\n",
       "    .dataframe thead th {\n",
       "        text-align: right;\n",
       "    }\n",
       "</style>\n",
       "<table border=\"1\" class=\"dataframe\">\n",
       "  <thead>\n",
       "    <tr style=\"text-align: right;\">\n",
       "      <th></th>\n",
       "      <th>social_beta</th>\n",
       "      <th>governance_beta</th>\n",
       "      <th>environment_beta</th>\n",
       "    </tr>\n",
       "  </thead>\n",
       "  <tbody>\n",
       "    <tr>\n",
       "      <th>slower</th>\n",
       "      <td>1894.911650</td>\n",
       "      <td>234.641118</td>\n",
       "      <td>-1537.506149</td>\n",
       "    </tr>\n",
       "    <tr>\n",
       "      <th>registeredcommon</th>\n",
       "      <td>1526.757749</td>\n",
       "      <td>1574.837128</td>\n",
       "      <td>3806.794715</td>\n",
       "    </tr>\n",
       "    <tr>\n",
       "      <th>typical</th>\n",
       "      <td>1399.729713</td>\n",
       "      <td>1070.139605</td>\n",
       "      <td>388.165570</td>\n",
       "    </tr>\n",
       "    <tr>\n",
       "      <th>prevented</th>\n",
       "      <td>1314.462624</td>\n",
       "      <td>1402.248340</td>\n",
       "      <td>-597.380044</td>\n",
       "    </tr>\n",
       "    <tr>\n",
       "      <th>contributory</th>\n",
       "      <td>1259.663568</td>\n",
       "      <td>450.586049</td>\n",
       "      <td>2730.406128</td>\n",
       "    </tr>\n",
       "    <tr>\n",
       "      <th>...</th>\n",
       "      <td>...</td>\n",
       "      <td>...</td>\n",
       "      <td>...</td>\n",
       "    </tr>\n",
       "    <tr>\n",
       "      <th>consultation</th>\n",
       "      <td>-936.066218</td>\n",
       "      <td>-1360.415248</td>\n",
       "      <td>-1630.210797</td>\n",
       "    </tr>\n",
       "    <tr>\n",
       "      <th>liquidating</th>\n",
       "      <td>-960.701299</td>\n",
       "      <td>-960.136485</td>\n",
       "      <td>-745.137718</td>\n",
       "    </tr>\n",
       "    <tr>\n",
       "      <th>distinct</th>\n",
       "      <td>-982.509796</td>\n",
       "      <td>-711.681103</td>\n",
       "      <td>-1652.224372</td>\n",
       "    </tr>\n",
       "    <tr>\n",
       "      <th>posting</th>\n",
       "      <td>-1046.251675</td>\n",
       "      <td>-644.540777</td>\n",
       "      <td>-1355.851198</td>\n",
       "    </tr>\n",
       "    <tr>\n",
       "      <th>owning</th>\n",
       "      <td>-1652.039089</td>\n",
       "      <td>-1490.659852</td>\n",
       "      <td>-1090.058276</td>\n",
       "    </tr>\n",
       "  </tbody>\n",
       "</table>\n",
       "<p>2178 rows × 3 columns</p>\n",
       "</div>"
      ],
      "text/plain": [
       "                  social_beta  governance_beta  environment_beta\n",
       "slower            1894.911650       234.641118      -1537.506149\n",
       "registeredcommon  1526.757749      1574.837128       3806.794715\n",
       "typical           1399.729713      1070.139605        388.165570\n",
       "prevented         1314.462624      1402.248340       -597.380044\n",
       "contributory      1259.663568       450.586049       2730.406128\n",
       "...                       ...              ...               ...\n",
       "consultation      -936.066218     -1360.415248      -1630.210797\n",
       "liquidating       -960.701299      -960.136485       -745.137718\n",
       "distinct          -982.509796      -711.681103      -1652.224372\n",
       "posting          -1046.251675      -644.540777      -1355.851198\n",
       "owning           -1652.039089     -1490.659852      -1090.058276\n",
       "\n",
       "[2178 rows x 3 columns]"
      ]
     },
     "execution_count": 10,
     "metadata": {},
     "output_type": "execute_result"
    }
   ],
   "source": [
    "# \"governance_beta\", \"environment_beta\"\n",
    "df_tfidf.sort_values(by=[\"social_beta\"], ascending=False)"
   ]
  },
  {
   "cell_type": "markdown",
   "metadata": {},
   "source": [
    "## Model Wrapup"
   ]
  },
  {
   "cell_type": "code",
   "execution_count": 55,
   "metadata": {},
   "outputs": [],
   "source": [
    "not_listed = [\"BBWI\"]\n",
    "sectors = ['Consumer Cyclical', 'Energy', 'Industrials', 'Healthcare',\n",
    "       'Basic Materials', 'Consumer Defensive', 'Utilities', 'Technology',\n",
    "       'Financial Services', 'Communication Services', 'Real Estate']"
   ]
  },
  {
   "cell_type": "code",
   "execution_count": 61,
   "metadata": {},
   "outputs": [
    {
     "name": "stderr",
     "output_type": "stream",
     "text": [
      "3it [00:01,  2.15it/s]"
     ]
    },
    {
     "name": "stdout",
     "output_type": "stream",
     "text": [
      "Scraping CIK 0000019617\n"
     ]
    },
    {
     "name": "stderr",
     "output_type": "stream",
     "text": [
      "100%|██████████| 1/1 [00:08<00:00,  8.49s/it]\n"
     ]
    },
    {
     "name": "stdout",
     "output_type": "stream",
     "text": [
      "Scraping CIK 0000019617\n"
     ]
    },
    {
     "name": "stderr",
     "output_type": "stream",
     "text": [
      "100%|██████████| 1/1 [00:11<00:00, 11.34s/it]\n",
      "13it [01:29,  3.07s/it]"
     ]
    },
    {
     "name": "stdout",
     "output_type": "stream",
     "text": [
      "Scraping CIK 0000914208\n"
     ]
    },
    {
     "name": "stderr",
     "output_type": "stream",
     "text": [
      "100%|██████████| 1/1 [00:06<00:00,  6.23s/it]\n"
     ]
    },
    {
     "name": "stdout",
     "output_type": "stream",
     "text": [
      "Scraping CIK 0000914208\n"
     ]
    },
    {
     "name": "stderr",
     "output_type": "stream",
     "text": [
      "100%|██████████| 1/1 [00:08<00:00,  8.45s/it]\n",
      "30it [02:26,  1.20it/s]"
     ]
    },
    {
     "name": "stdout",
     "output_type": "stream",
     "text": [
      "Scraping CIK 0000759944\n"
     ]
    },
    {
     "name": "stderr",
     "output_type": "stream",
     "text": [
      "100%|██████████| 1/1 [00:06<00:00,  6.92s/it]\n"
     ]
    },
    {
     "name": "stdout",
     "output_type": "stream",
     "text": [
      "Scraping CIK 0000759944\n"
     ]
    },
    {
     "name": "stderr",
     "output_type": "stream",
     "text": [
      "100%|██████████| 1/1 [00:10<00:00, 10.30s/it]\n",
      "35it [03:16,  4.63s/it]"
     ]
    },
    {
     "name": "stdout",
     "output_type": "stream",
     "text": [
      "Scraping CIK 0000320335\n"
     ]
    },
    {
     "name": "stderr",
     "output_type": "stream",
     "text": [
      "100%|██████████| 1/1 [00:06<00:00,  6.95s/it]\n"
     ]
    },
    {
     "name": "stdout",
     "output_type": "stream",
     "text": [
      "Scraping CIK 0000320335\n"
     ]
    },
    {
     "name": "stderr",
     "output_type": "stream",
     "text": [
      "100%|██████████| 1/1 [00:10<00:00, 10.37s/it]\n",
      "37it [04:03, 12.65s/it]"
     ]
    },
    {
     "name": "stdout",
     "output_type": "stream",
     "text": [
      "Scraping CIK 0000899051\n"
     ]
    },
    {
     "name": "stderr",
     "output_type": "stream",
     "text": [
      "100%|██████████| 1/1 [00:06<00:00,  6.78s/it]\n"
     ]
    },
    {
     "name": "stdout",
     "output_type": "stream",
     "text": [
      "Scraping CIK 0000899051\n"
     ]
    },
    {
     "name": "stderr",
     "output_type": "stream",
     "text": [
      "100%|██████████| 1/1 [00:09<00:00,  9.19s/it]\n",
      "38it [04:57, 24.74s/it]"
     ]
    },
    {
     "name": "stdout",
     "output_type": "stream",
     "text": [
      "Scraping CIK 0001126328\n"
     ]
    },
    {
     "name": "stderr",
     "output_type": "stream",
     "text": [
      "100%|██████████| 1/1 [00:06<00:00,  6.54s/it]\n"
     ]
    },
    {
     "name": "stdout",
     "output_type": "stream",
     "text": [
      "Scraping CIK 0001126328\n"
     ]
    },
    {
     "name": "stderr",
     "output_type": "stream",
     "text": [
      "100%|██████████| 1/1 [00:08<00:00,  8.50s/it]\n",
      "44it [06:02,  8.71s/it]"
     ]
    },
    {
     "name": "stdout",
     "output_type": "stream",
     "text": [
      "Scraping CIK 0001374310\n"
     ]
    },
    {
     "name": "stderr",
     "output_type": "stream",
     "text": [
      "100%|██████████| 1/1 [00:06<00:00,  6.99s/it]\n"
     ]
    },
    {
     "name": "stdout",
     "output_type": "stream",
     "text": [
      "Scraping CIK 0001374310\n"
     ]
    },
    {
     "name": "stderr",
     "output_type": "stream",
     "text": [
      "100%|██████████| 1/1 [00:09<00:00,  9.59s/it]\n",
      "64it [07:12,  6.75s/it]\n",
      "64it [00:19,  3.21it/s]\n"
     ]
    }
   ],
   "source": [
    "sector = \"Financial Services\"\n",
    "# sector = \"Energy\"\n",
    "\n",
    "df_esg_score = pd.read_excel(\"data/esg_score.xlsx\", sheet_name = \"data\")\n",
    "esgs = df_esg_score[df_esg_score[\"sector\"] == sector][[\"Company\", \"socialScore\", \"governanceScore\", \"environmentScore\"]]\n",
    "\n",
    "tickers = list(esgs[\"Company\"])\n",
    "for t in not_listed:\n",
    "    if t in tickers:\n",
    "        tickers.remove(t)\n",
    "        esgs = esgs.drop(esgs[esgs[\"Company\"] == t].index)\n",
    "\n",
    "ticker_library = pd.read_csv(os.path.join(\"data\", \"tickers.csv\"))\n",
    "\n",
    "ciks = get_ciks(tickers)\n",
    "\n",
    "ret = get_texts(ciks, tickers)\n",
    "docs = ret[\"docs\"]\n",
    "\n",
    "cv = CountVectorizer(max_df=0.8, stop_words=stop_words, max_features=1000)\n",
    "word_count_vector = cv.fit_transform(docs)\n",
    "\n",
    "tfidf_transformer = TfidfTransformer(smooth_idf=True, use_idf=True)\n",
    "tfidf_transformer.fit(word_count_vector)\n",
    "\n",
    "feature_names = cv.get_feature_names()\n",
    "\n",
    "df_doc_word = pd.DataFrame(columns=feature_names, index=tickers)\n",
    "\n",
    "for i, ticker in tqdm(enumerate(tickers)):\n",
    "    tf_idf_vector = tfidf_transformer.transform(cv.transform([docs[i]]))\n",
    "    \n",
    "    coo_matrix = tf_idf_vector.tocoo()\n",
    "    # coo_matrix: A sparse matrix in which coo_matrix.col stores word_idx, coo_matrix.data stores tfidf score\n",
    "    \n",
    "    tuples = zip(coo_matrix.col, coo_matrix.data)\n",
    "    for word_idx, tfidf in tuples:\n",
    "        df_doc_word.at[ticker, feature_names[word_idx]] = tfidf\n",
    "\n",
    "df_doc_word = df_doc_word.fillna(0)\n",
    "\n",
    "df_tfidf = pd.DataFrame(columns=[\"social_beta\", \"governance_beta\", \"environment_beta\"], index=feature_names)\n",
    "\n",
    "for typ in [\"social\", \"governance\", \"environment\"]:\n",
    "    score = esgs[\"{}Score\".format(typ)]\n",
    "    slopes = []\n",
    "    for word in feature_names:\n",
    "        tfidfs = df_doc_word[word].values.astype(float)\n",
    "        slope, intercept, *_ = linregress(tfidfs, score)\n",
    "        slopes.append(slope)\n",
    "    df_tfidf[\"{}_beta\".format(typ)] = slopes\n",
    "\n",
    "cols = df_tfidf.columns\n",
    "alpha = 0.3\n",
    "\n",
    "for col in cols: \n",
    "    betas = df_tfidf[col]\n",
    "    score_type = col.split('_')[0]\n",
    "    \n",
    "    upper_score = np.quantile(betas, 1 - alpha)\n",
    "    lower_score = np.quantile(betas, alpha)\n",
    "    is_good = np.where(betas < lower_score, 1, 0) + np.where(betas > upper_score, -1, 0)\n",
    "    \n",
    "    df_tfidf[\"{}_isGood\".format(score_type)] = is_good\n",
    "\n",
    "df_tfidf.to_csv(\"data/tfidf_scores/{}.csv\".format(sector))"
   ]
  },
  {
   "cell_type": "markdown",
   "metadata": {},
   "source": [
    "## Appendix"
   ]
  },
  {
   "cell_type": "code",
   "execution_count": 91,
   "metadata": {},
   "outputs": [],
   "source": [
    "import shutil"
   ]
  },
  {
   "cell_type": "code",
   "execution_count": null,
   "metadata": {},
   "outputs": [],
   "source": [
    "for cik in energy_cik[1:]:\n",
    "    pkl_path = os.path.join(\"data\", \"10k\", cik, \"pickle\")\n",
    "    shutil.rmtree(pkl_path)\n",
    "    pkl_path = os.path.join(\"data\", \"10q\", cik, \"pickle\")\n",
    "    shutil.rmtree(pkl_path)"
   ]
  },
  {
   "cell_type": "code",
   "execution_count": null,
   "metadata": {},
   "outputs": [],
   "source": []
  }
 ],
 "metadata": {
  "interpreter": {
   "hash": "bcf325ffca4e7352bcfac699b7999bb028ddd94d8390136137b75043a4ee01b0"
  },
  "kernelspec": {
   "display_name": "Python 3.9.4 64-bit ('venv': venv)",
   "name": "python3"
  },
  "language_info": {
   "codemirror_mode": {
    "name": "ipython",
    "version": 3
   },
   "file_extension": ".py",
   "mimetype": "text/x-python",
   "name": "python",
   "nbconvert_exporter": "python",
   "pygments_lexer": "ipython3",
   "version": "3.9.4"
  }
 },
 "nbformat": 4,
 "nbformat_minor": 5
}
